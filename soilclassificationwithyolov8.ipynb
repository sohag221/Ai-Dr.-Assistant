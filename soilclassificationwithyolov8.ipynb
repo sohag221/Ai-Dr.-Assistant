{
 "cells": [
  {
   "cell_type": "code",
   "execution_count": 1,
   "id": "17a90d5e",
   "metadata": {
    "_cell_guid": "b1076dfc-b9ad-4769-8c92-a6c4dae69d19",
    "_uuid": "8f2839f25d086af736a60e9eeb907d3b93b6e0e5",
    "execution": {
     "iopub.execute_input": "2025-01-30T09:19:53.136130Z",
     "iopub.status.busy": "2025-01-30T09:19:53.135744Z",
     "iopub.status.idle": "2025-01-30T09:19:59.308810Z",
     "shell.execute_reply": "2025-01-30T09:19:59.307536Z"
    },
    "papermill": {
     "duration": 6.179118,
     "end_time": "2025-01-30T09:19:59.310389",
     "exception": false,
     "start_time": "2025-01-30T09:19:53.131271",
     "status": "completed"
    },
    "tags": []
   },
   "outputs": [
    {
     "name": "stdout",
     "output_type": "stream",
     "text": [
      "Collecting ultralytics\r\n",
      "  Downloading ultralytics-8.3.69-py3-none-any.whl.metadata (35 kB)\r\n",
      "Requirement already satisfied: matplotlib in /usr/local/lib/python3.10/dist-packages (3.7.5)\r\n",
      "Requirement already satisfied: scikit-learn in /usr/local/lib/python3.10/dist-packages (1.2.2)\r\n",
      "Requirement already satisfied: torch in /usr/local/lib/python3.10/dist-packages (2.5.1+cu121)\r\n",
      "Requirement already satisfied: torchvision in /usr/local/lib/python3.10/dist-packages (0.20.1+cu121)\r\n",
      "Requirement already satisfied: numpy>=1.23.0 in /usr/local/lib/python3.10/dist-packages (from ultralytics) (1.26.4)\r\n",
      "Requirement already satisfied: opencv-python>=4.6.0 in /usr/local/lib/python3.10/dist-packages (from ultralytics) (4.10.0.84)\r\n",
      "Requirement already satisfied: pillow>=7.1.2 in /usr/local/lib/python3.10/dist-packages (from ultralytics) (11.0.0)\r\n",
      "Requirement already satisfied: pyyaml>=5.3.1 in /usr/local/lib/python3.10/dist-packages (from ultralytics) (6.0.2)\r\n",
      "Requirement already satisfied: requests>=2.23.0 in /usr/local/lib/python3.10/dist-packages (from ultralytics) (2.32.3)\r\n",
      "Requirement already satisfied: scipy>=1.4.1 in /usr/local/lib/python3.10/dist-packages (from ultralytics) (1.13.1)\r\n",
      "Requirement already satisfied: tqdm>=4.64.0 in /usr/local/lib/python3.10/dist-packages (from ultralytics) (4.67.1)\r\n",
      "Requirement already satisfied: psutil in /usr/local/lib/python3.10/dist-packages (from ultralytics) (5.9.5)\r\n",
      "Requirement already satisfied: py-cpuinfo in /usr/local/lib/python3.10/dist-packages (from ultralytics) (9.0.0)\r\n",
      "Requirement already satisfied: pandas>=1.1.4 in /usr/local/lib/python3.10/dist-packages (from ultralytics) (2.2.2)\r\n",
      "Requirement already satisfied: seaborn>=0.11.0 in /usr/local/lib/python3.10/dist-packages (from ultralytics) (0.12.2)\r\n",
      "Collecting ultralytics-thop>=2.0.0 (from ultralytics)\r\n",
      "  Downloading ultralytics_thop-2.0.14-py3-none-any.whl.metadata (9.4 kB)\r\n",
      "Requirement already satisfied: contourpy>=1.0.1 in /usr/local/lib/python3.10/dist-packages (from matplotlib) (1.3.1)\r\n",
      "Requirement already satisfied: cycler>=0.10 in /usr/local/lib/python3.10/dist-packages (from matplotlib) (0.12.1)\r\n",
      "Requirement already satisfied: fonttools>=4.22.0 in /usr/local/lib/python3.10/dist-packages (from matplotlib) (4.55.3)\r\n",
      "Requirement already satisfied: kiwisolver>=1.0.1 in /usr/local/lib/python3.10/dist-packages (from matplotlib) (1.4.7)\r\n",
      "Requirement already satisfied: packaging>=20.0 in /usr/local/lib/python3.10/dist-packages (from matplotlib) (24.2)\r\n",
      "Requirement already satisfied: pyparsing>=2.3.1 in /usr/local/lib/python3.10/dist-packages (from matplotlib) (3.2.0)\r\n",
      "Requirement already satisfied: python-dateutil>=2.7 in /usr/local/lib/python3.10/dist-packages (from matplotlib) (2.8.2)\r\n",
      "Requirement already satisfied: joblib>=1.1.1 in /usr/local/lib/python3.10/dist-packages (from scikit-learn) (1.4.2)\r\n",
      "Requirement already satisfied: threadpoolctl>=2.0.0 in /usr/local/lib/python3.10/dist-packages (from scikit-learn) (3.5.0)\r\n",
      "Requirement already satisfied: filelock in /usr/local/lib/python3.10/dist-packages (from torch) (3.16.1)\r\n",
      "Requirement already satisfied: typing-extensions>=4.8.0 in /usr/local/lib/python3.10/dist-packages (from torch) (4.12.2)\r\n",
      "Requirement already satisfied: networkx in /usr/local/lib/python3.10/dist-packages (from torch) (3.4.2)\r\n",
      "Requirement already satisfied: jinja2 in /usr/local/lib/python3.10/dist-packages (from torch) (3.1.4)\r\n",
      "Requirement already satisfied: fsspec in /usr/local/lib/python3.10/dist-packages (from torch) (2024.9.0)\r\n",
      "Requirement already satisfied: sympy==1.13.1 in /usr/local/lib/python3.10/dist-packages (from torch) (1.13.1)\r\n",
      "Requirement already satisfied: mpmath<1.4,>=1.1.0 in /usr/local/lib/python3.10/dist-packages (from sympy==1.13.1->torch) (1.3.0)\r\n",
      "Requirement already satisfied: mkl_fft in /usr/local/lib/python3.10/dist-packages (from numpy>=1.23.0->ultralytics) (1.3.8)\r\n",
      "Requirement already satisfied: mkl_random in /usr/local/lib/python3.10/dist-packages (from numpy>=1.23.0->ultralytics) (1.2.4)\r\n",
      "Requirement already satisfied: mkl_umath in /usr/local/lib/python3.10/dist-packages (from numpy>=1.23.0->ultralytics) (0.1.1)\r\n",
      "Requirement already satisfied: mkl in /usr/local/lib/python3.10/dist-packages (from numpy>=1.23.0->ultralytics) (2025.0.1)\r\n",
      "Requirement already satisfied: tbb4py in /usr/local/lib/python3.10/dist-packages (from numpy>=1.23.0->ultralytics) (2022.0.0)\r\n",
      "Requirement already satisfied: mkl-service in /usr/local/lib/python3.10/dist-packages (from numpy>=1.23.0->ultralytics) (2.4.1)\r\n",
      "Requirement already satisfied: pytz>=2020.1 in /usr/local/lib/python3.10/dist-packages (from pandas>=1.1.4->ultralytics) (2024.2)\r\n",
      "Requirement already satisfied: tzdata>=2022.7 in /usr/local/lib/python3.10/dist-packages (from pandas>=1.1.4->ultralytics) (2024.2)\r\n",
      "Requirement already satisfied: six>=1.5 in /usr/local/lib/python3.10/dist-packages (from python-dateutil>=2.7->matplotlib) (1.17.0)\r\n",
      "Requirement already satisfied: charset-normalizer<4,>=2 in /usr/local/lib/python3.10/dist-packages (from requests>=2.23.0->ultralytics) (3.4.0)\r\n",
      "Requirement already satisfied: idna<4,>=2.5 in /usr/local/lib/python3.10/dist-packages (from requests>=2.23.0->ultralytics) (3.10)\r\n",
      "Requirement already satisfied: urllib3<3,>=1.21.1 in /usr/local/lib/python3.10/dist-packages (from requests>=2.23.0->ultralytics) (2.2.3)\r\n",
      "Requirement already satisfied: certifi>=2017.4.17 in /usr/local/lib/python3.10/dist-packages (from requests>=2.23.0->ultralytics) (2024.12.14)\r\n",
      "Requirement already satisfied: MarkupSafe>=2.0 in /usr/local/lib/python3.10/dist-packages (from jinja2->torch) (3.0.2)\r\n",
      "Requirement already satisfied: intel-openmp>=2024 in /usr/local/lib/python3.10/dist-packages (from mkl->numpy>=1.23.0->ultralytics) (2024.2.0)\r\n",
      "Requirement already satisfied: tbb==2022.* in /usr/local/lib/python3.10/dist-packages (from mkl->numpy>=1.23.0->ultralytics) (2022.0.0)\r\n",
      "Requirement already satisfied: tcmlib==1.* in /usr/local/lib/python3.10/dist-packages (from tbb==2022.*->mkl->numpy>=1.23.0->ultralytics) (1.2.0)\r\n",
      "Requirement already satisfied: intel-cmplr-lib-rt in /usr/local/lib/python3.10/dist-packages (from mkl_umath->numpy>=1.23.0->ultralytics) (2024.2.0)\r\n",
      "Requirement already satisfied: intel-cmplr-lib-ur==2024.2.0 in /usr/local/lib/python3.10/dist-packages (from intel-openmp>=2024->mkl->numpy>=1.23.0->ultralytics) (2024.2.0)\r\n",
      "Downloading ultralytics-8.3.69-py3-none-any.whl (914 kB)\r\n",
      "\u001b[2K   \u001b[90m━━━━━━━━━━━━━━━━━━━━━━━━━━━━━━━━━━━━━━━━\u001b[0m \u001b[32m914.6/914.6 kB\u001b[0m \u001b[31m19.1 MB/s\u001b[0m eta \u001b[36m0:00:00\u001b[0m\r\n",
      "\u001b[?25hDownloading ultralytics_thop-2.0.14-py3-none-any.whl (26 kB)\r\n",
      "Installing collected packages: ultralytics-thop, ultralytics\r\n",
      "Successfully installed ultralytics-8.3.69 ultralytics-thop-2.0.14\r\n",
      "Note: you may need to restart the kernel to use updated packages.\n"
     ]
    }
   ],
   "source": [
    "pip install ultralytics matplotlib scikit-learn torch torchvision"
   ]
  },
  {
   "cell_type": "code",
   "execution_count": 2,
   "id": "6490f088",
   "metadata": {
    "execution": {
     "iopub.execute_input": "2025-01-30T09:19:59.319453Z",
     "iopub.status.busy": "2025-01-30T09:19:59.319140Z",
     "iopub.status.idle": "2025-01-30T09:20:09.174666Z",
     "shell.execute_reply": "2025-01-30T09:20:09.173905Z"
    },
    "papermill": {
     "duration": 9.861722,
     "end_time": "2025-01-30T09:20:09.176362",
     "exception": false,
     "start_time": "2025-01-30T09:19:59.314640",
     "status": "completed"
    },
    "tags": []
   },
   "outputs": [
    {
     "name": "stdout",
     "output_type": "stream",
     "text": [
      "Creating new Ultralytics Settings v0.0.6 file ✅ \n",
      "View Ultralytics Settings with 'yolo settings' or at '/root/.config/Ultralytics/settings.json'\n",
      "Update Settings with 'yolo settings key=value', i.e. 'yolo settings runs_dir=path/to/dir'. For help see https://docs.ultralytics.com/quickstart/#ultralytics-settings.\n",
      "Downloading https://github.com/ultralytics/assets/releases/download/v8.3.0/yolov8n-cls.pt to 'yolov8n-cls.pt'...\n"
     ]
    },
    {
     "name": "stderr",
     "output_type": "stream",
     "text": [
      "100%|██████████| 5.31M/5.31M [00:00<00:00, 94.4MB/s]\n"
     ]
    }
   ],
   "source": [
    "from ultralytics import YOLO\n",
    "\n",
    "# Load the YOLOv8 classification model\n",
    "model = YOLO(\"yolov8n-cls.pt\")  # \"yolov8n-cls.pt\" is the smallest model"
   ]
  },
  {
   "cell_type": "code",
   "execution_count": 3,
   "id": "c7a6212e",
   "metadata": {
    "execution": {
     "iopub.execute_input": "2025-01-30T09:20:09.185578Z",
     "iopub.status.busy": "2025-01-30T09:20:09.185150Z",
     "iopub.status.idle": "2025-01-30T09:32:45.822226Z",
     "shell.execute_reply": "2025-01-30T09:32:45.820890Z"
    },
    "papermill": {
     "duration": 756.643671,
     "end_time": "2025-01-30T09:32:45.824261",
     "exception": false,
     "start_time": "2025-01-30T09:20:09.180590",
     "status": "completed"
    },
    "tags": []
   },
   "outputs": [
    {
     "name": "stdout",
     "output_type": "stream",
     "text": [
      "Ultralytics 8.3.69 🚀 Python-3.10.12 torch-2.5.1+cu121 CUDA:0 (Tesla T4, 15095MiB)\n",
      "\u001b[34m\u001b[1mengine/trainer: \u001b[0mtask=classify, mode=train, model=yolov8n-cls.pt, data=/kaggle/input/soil-classification2, epochs=50, time=None, patience=100, batch=32, imgsz=224, save=True, save_period=-1, cache=False, device=0, workers=8, project=None, name=train, exist_ok=False, pretrained=True, optimizer=auto, verbose=True, seed=0, deterministic=True, single_cls=False, rect=False, cos_lr=False, close_mosaic=10, resume=False, amp=True, fraction=1.0, profile=False, freeze=None, multi_scale=False, overlap_mask=True, mask_ratio=4, dropout=0.0, val=True, split=val, save_json=False, save_hybrid=False, conf=None, iou=0.7, max_det=300, half=False, dnn=False, plots=True, source=None, vid_stride=1, stream_buffer=False, visualize=False, augment=False, agnostic_nms=False, classes=None, retina_masks=False, embed=None, show=False, save_frames=False, save_txt=False, save_conf=False, save_crop=False, show_labels=True, show_conf=True, show_boxes=True, line_width=None, format=torchscript, keras=False, optimize=False, int8=False, dynamic=False, simplify=True, opset=None, workspace=None, nms=False, lr0=0.01, lrf=0.01, momentum=0.937, weight_decay=0.0005, warmup_epochs=3.0, warmup_momentum=0.8, warmup_bias_lr=0.1, box=7.5, cls=0.5, dfl=1.5, pose=12.0, kobj=1.0, nbs=64, hsv_h=0.015, hsv_s=0.7, hsv_v=0.4, degrees=0.0, translate=0.1, scale=0.5, shear=0.0, perspective=0.0, flipud=0.0, fliplr=0.5, bgr=0.0, mosaic=1.0, mixup=0.0, copy_paste=0.0, copy_paste_mode=flip, auto_augment=randaugment, erasing=0.4, crop_fraction=1.0, cfg=None, tracker=botsort.yaml, save_dir=runs/classify/train\n",
      "\u001b[34m\u001b[1mtrain:\u001b[0m /kaggle/input/soil-classification2/train... found 2998 images in 4 classes ✅ \n",
      "\u001b[34m\u001b[1mval:\u001b[0m None...\n",
      "\u001b[34m\u001b[1mtest:\u001b[0m /kaggle/input/soil-classification2/test... found 286 images in 4 classes ✅ \n",
      "Overriding model.yaml nc=1000 with nc=4\n",
      "\n",
      "                   from  n    params  module                                       arguments                     \n",
      "  0                  -1  1       464  ultralytics.nn.modules.conv.Conv             [3, 16, 3, 2]                 \n",
      "  1                  -1  1      4672  ultralytics.nn.modules.conv.Conv             [16, 32, 3, 2]                \n",
      "  2                  -1  1      7360  ultralytics.nn.modules.block.C2f             [32, 32, 1, True]             \n",
      "  3                  -1  1     18560  ultralytics.nn.modules.conv.Conv             [32, 64, 3, 2]                \n",
      "  4                  -1  2     49664  ultralytics.nn.modules.block.C2f             [64, 64, 2, True]             \n",
      "  5                  -1  1     73984  ultralytics.nn.modules.conv.Conv             [64, 128, 3, 2]               \n",
      "  6                  -1  2    197632  ultralytics.nn.modules.block.C2f             [128, 128, 2, True]           \n",
      "  7                  -1  1    295424  ultralytics.nn.modules.conv.Conv             [128, 256, 3, 2]              \n",
      "  8                  -1  1    460288  ultralytics.nn.modules.block.C2f             [256, 256, 1, True]           \n",
      "  9                  -1  1    335364  ultralytics.nn.modules.head.Classify         [256, 4]                      \n",
      "YOLOv8n-cls summary: 99 layers, 1,443,412 parameters, 1,443,412 gradients, 3.4 GFLOPs\n",
      "Transferred 156/158 items from pretrained weights\n",
      "\u001b[34m\u001b[1mTensorBoard: \u001b[0mStart with 'tensorboard --logdir runs/classify/train', view at http://localhost:6006/\n",
      "\u001b[34m\u001b[1mAMP: \u001b[0mrunning Automatic Mixed Precision (AMP) checks...\n",
      "Downloading https://github.com/ultralytics/assets/releases/download/v8.3.0/yolo11n.pt to 'yolo11n.pt'...\n"
     ]
    },
    {
     "name": "stderr",
     "output_type": "stream",
     "text": [
      "100%|██████████| 5.35M/5.35M [00:00<00:00, 109MB/s]\n"
     ]
    },
    {
     "name": "stdout",
     "output_type": "stream",
     "text": [
      "\u001b[34m\u001b[1mAMP: \u001b[0mchecks passed ✅\n"
     ]
    },
    {
     "name": "stderr",
     "output_type": "stream",
     "text": [
      "\u001b[34m\u001b[1mtrain: \u001b[0mScanning /kaggle/input/soil-classification2/train... 2998 images, 0 corrupt: 100%|██████████| 2998/2998 [00:05<00:00, 548.53it/s]\n"
     ]
    },
    {
     "name": "stdout",
     "output_type": "stream",
     "text": [
      "\u001b[34m\u001b[1mtrain: \u001b[0mWARNING ⚠️ Cache directory /kaggle/input/soil-classification2 is not writeable, cache not saved.\n"
     ]
    },
    {
     "name": "stderr",
     "output_type": "stream",
     "text": [
      "\u001b[34m\u001b[1mval: \u001b[0mScanning /kaggle/input/soil-classification2/test... 286 images, 0 corrupt: 100%|██████████| 286/286 [00:00<00:00, 371.42it/s]"
     ]
    },
    {
     "name": "stdout",
     "output_type": "stream",
     "text": [
      "\u001b[34m\u001b[1mval: \u001b[0mWARNING ⚠️ Cache directory /kaggle/input/soil-classification2 is not writeable, cache not saved.\n"
     ]
    },
    {
     "name": "stderr",
     "output_type": "stream",
     "text": [
      "\n"
     ]
    },
    {
     "name": "stdout",
     "output_type": "stream",
     "text": [
      "\u001b[34m\u001b[1moptimizer:\u001b[0m 'optimizer=auto' found, ignoring 'lr0=0.01' and 'momentum=0.937' and determining best 'optimizer', 'lr0' and 'momentum' automatically... \n",
      "\u001b[34m\u001b[1moptimizer:\u001b[0m AdamW(lr=0.00125, momentum=0.9) with parameter groups 26 weight(decay=0.0), 27 weight(decay=0.0005), 27 bias(decay=0.0)\n",
      "\u001b[34m\u001b[1mTensorBoard: \u001b[0mmodel graph visualization added ✅\n",
      "Image sizes 224 train, 224 val\n",
      "Using 4 dataloader workers\n",
      "Logging results to \u001b[1mruns/classify/train\u001b[0m\n",
      "Starting training for 50 epochs...\n",
      "\n",
      "      Epoch    GPU_mem       loss  Instances       Size\n"
     ]
    },
    {
     "name": "stderr",
     "output_type": "stream",
     "text": [
      "       1/50     0.457G      1.407         32        224:  10%|▉         | 9/94 [00:01<00:07, 11.44it/s]"
     ]
    },
    {
     "name": "stdout",
     "output_type": "stream",
     "text": [
      "Downloading https://ultralytics.com/assets/Arial.ttf to '/root/.config/Ultralytics/Arial.ttf'...\n"
     ]
    },
    {
     "name": "stderr",
     "output_type": "stream",
     "text": [
      "       1/50     0.457G      1.395         32        224:  14%|█▍        | 13/94 [00:01<00:07, 10.84it/s]\n",
      "100%|██████████| 755k/755k [00:00<00:00, 30.4MB/s]\n",
      "       1/50     0.457G     0.6978         22        224: 100%|██████████| 94/94 [00:13<00:00,  7.06it/s]\n",
      "               classes   top1_acc   top5_acc: 100%|██████████| 5/5 [00:00<00:00, 14.94it/s]"
     ]
    },
    {
     "name": "stdout",
     "output_type": "stream",
     "text": [
      "                   all      0.979          1\n"
     ]
    },
    {
     "name": "stderr",
     "output_type": "stream",
     "text": [
      "\n"
     ]
    },
    {
     "name": "stdout",
     "output_type": "stream",
     "text": [
      "\n",
      "      Epoch    GPU_mem       loss  Instances       Size\n"
     ]
    },
    {
     "name": "stderr",
     "output_type": "stream",
     "text": [
      "       2/50     0.392G     0.1609         22        224: 100%|██████████| 94/94 [00:12<00:00,  7.59it/s]\n",
      "               classes   top1_acc   top5_acc: 100%|██████████| 5/5 [00:00<00:00, 35.13it/s]"
     ]
    },
    {
     "name": "stdout",
     "output_type": "stream",
     "text": [
      "                   all      0.972          1\n"
     ]
    },
    {
     "name": "stderr",
     "output_type": "stream",
     "text": [
      "\n"
     ]
    },
    {
     "name": "stdout",
     "output_type": "stream",
     "text": [
      "\n",
      "      Epoch    GPU_mem       loss  Instances       Size\n"
     ]
    },
    {
     "name": "stderr",
     "output_type": "stream",
     "text": [
      "       3/50     0.394G     0.1638         22        224: 100%|██████████| 94/94 [00:12<00:00,  7.48it/s]\n",
      "               classes   top1_acc   top5_acc: 100%|██████████| 5/5 [00:00<00:00, 39.24it/s]"
     ]
    },
    {
     "name": "stdout",
     "output_type": "stream",
     "text": [
      "                   all      0.983          1\n"
     ]
    },
    {
     "name": "stderr",
     "output_type": "stream",
     "text": [
      "\n"
     ]
    },
    {
     "name": "stdout",
     "output_type": "stream",
     "text": [
      "\n",
      "      Epoch    GPU_mem       loss  Instances       Size\n"
     ]
    },
    {
     "name": "stderr",
     "output_type": "stream",
     "text": [
      "       4/50     0.394G     0.1192         22        224: 100%|██████████| 94/94 [00:12<00:00,  7.28it/s]\n",
      "               classes   top1_acc   top5_acc: 100%|██████████| 5/5 [00:00<00:00, 57.00it/s]\n"
     ]
    },
    {
     "name": "stdout",
     "output_type": "stream",
     "text": [
      "                   all       0.99          1\n",
      "\n",
      "      Epoch    GPU_mem       loss  Instances       Size\n"
     ]
    },
    {
     "name": "stderr",
     "output_type": "stream",
     "text": [
      "       5/50     0.394G     0.1082         22        224: 100%|██████████| 94/94 [00:12<00:00,  7.66it/s]\n",
      "               classes   top1_acc   top5_acc: 100%|██████████| 5/5 [00:00<00:00, 54.05it/s]"
     ]
    },
    {
     "name": "stdout",
     "output_type": "stream",
     "text": [
      "                   all      0.979          1\n"
     ]
    },
    {
     "name": "stderr",
     "output_type": "stream",
     "text": [
      "\n"
     ]
    },
    {
     "name": "stdout",
     "output_type": "stream",
     "text": [
      "\n",
      "      Epoch    GPU_mem       loss  Instances       Size\n"
     ]
    },
    {
     "name": "stderr",
     "output_type": "stream",
     "text": [
      "       6/50     0.392G    0.08489         22        224: 100%|██████████| 94/94 [00:12<00:00,  7.36it/s]\n",
      "               classes   top1_acc   top5_acc: 100%|██████████| 5/5 [00:00<00:00, 45.13it/s]"
     ]
    },
    {
     "name": "stdout",
     "output_type": "stream",
     "text": [
      "                   all      0.979          1\n"
     ]
    },
    {
     "name": "stderr",
     "output_type": "stream",
     "text": [
      "\n"
     ]
    },
    {
     "name": "stdout",
     "output_type": "stream",
     "text": [
      "\n",
      "      Epoch    GPU_mem       loss  Instances       Size\n"
     ]
    },
    {
     "name": "stderr",
     "output_type": "stream",
     "text": [
      "       7/50     0.392G    0.07636         22        224: 100%|██████████| 94/94 [00:12<00:00,  7.72it/s]\n",
      "               classes   top1_acc   top5_acc: 100%|██████████| 5/5 [00:00<00:00, 36.50it/s]"
     ]
    },
    {
     "name": "stdout",
     "output_type": "stream",
     "text": [
      "                   all      0.986          1\n"
     ]
    },
    {
     "name": "stderr",
     "output_type": "stream",
     "text": [
      "\n"
     ]
    },
    {
     "name": "stdout",
     "output_type": "stream",
     "text": [
      "\n",
      "      Epoch    GPU_mem       loss  Instances       Size\n"
     ]
    },
    {
     "name": "stderr",
     "output_type": "stream",
     "text": [
      "       8/50     0.394G    0.06484         22        224: 100%|██████████| 94/94 [00:12<00:00,  7.67it/s]\n",
      "               classes   top1_acc   top5_acc: 100%|██████████| 5/5 [00:00<00:00, 39.20it/s]"
     ]
    },
    {
     "name": "stdout",
     "output_type": "stream",
     "text": [
      "                   all      0.993          1\n"
     ]
    },
    {
     "name": "stderr",
     "output_type": "stream",
     "text": [
      "\n"
     ]
    },
    {
     "name": "stdout",
     "output_type": "stream",
     "text": [
      "\n",
      "      Epoch    GPU_mem       loss  Instances       Size\n"
     ]
    },
    {
     "name": "stderr",
     "output_type": "stream",
     "text": [
      "       9/50     0.394G    0.07188         22        224: 100%|██████████| 94/94 [00:13<00:00,  7.21it/s]\n",
      "               classes   top1_acc   top5_acc: 100%|██████████| 5/5 [00:00<00:00, 39.75it/s]"
     ]
    },
    {
     "name": "stdout",
     "output_type": "stream",
     "text": [
      "                   all      0.993          1\n"
     ]
    },
    {
     "name": "stderr",
     "output_type": "stream",
     "text": [
      "\n"
     ]
    },
    {
     "name": "stdout",
     "output_type": "stream",
     "text": [
      "\n",
      "      Epoch    GPU_mem       loss  Instances       Size\n"
     ]
    },
    {
     "name": "stderr",
     "output_type": "stream",
     "text": [
      "      10/50     0.392G    0.07512         22        224: 100%|██████████| 94/94 [00:12<00:00,  7.37it/s]\n",
      "               classes   top1_acc   top5_acc: 100%|██████████| 5/5 [00:00<00:00, 37.65it/s]"
     ]
    },
    {
     "name": "stdout",
     "output_type": "stream",
     "text": [
      "                   all      0.997          1\n"
     ]
    },
    {
     "name": "stderr",
     "output_type": "stream",
     "text": [
      "\n"
     ]
    },
    {
     "name": "stdout",
     "output_type": "stream",
     "text": [
      "\n",
      "      Epoch    GPU_mem       loss  Instances       Size\n"
     ]
    },
    {
     "name": "stderr",
     "output_type": "stream",
     "text": [
      "      11/50     0.394G    0.05341         22        224: 100%|██████████| 94/94 [00:12<00:00,  7.37it/s]\n",
      "               classes   top1_acc   top5_acc: 100%|██████████| 5/5 [00:00<00:00, 43.65it/s]"
     ]
    },
    {
     "name": "stdout",
     "output_type": "stream",
     "text": [
      "                   all      0.997          1\n"
     ]
    },
    {
     "name": "stderr",
     "output_type": "stream",
     "text": [
      "\n"
     ]
    },
    {
     "name": "stdout",
     "output_type": "stream",
     "text": [
      "\n",
      "      Epoch    GPU_mem       loss  Instances       Size\n"
     ]
    },
    {
     "name": "stderr",
     "output_type": "stream",
     "text": [
      "      12/50     0.394G    0.05269         22        224: 100%|██████████| 94/94 [00:12<00:00,  7.47it/s]\n",
      "               classes   top1_acc   top5_acc: 100%|██████████| 5/5 [00:00<00:00, 36.51it/s]\n"
     ]
    },
    {
     "name": "stdout",
     "output_type": "stream",
     "text": [
      "                   all      0.997          1\n",
      "\n",
      "      Epoch    GPU_mem       loss  Instances       Size\n"
     ]
    },
    {
     "name": "stderr",
     "output_type": "stream",
     "text": [
      "      13/50     0.392G    0.03686         22        224: 100%|██████████| 94/94 [00:12<00:00,  7.40it/s]\n",
      "               classes   top1_acc   top5_acc: 100%|██████████| 5/5 [00:00<00:00, 35.61it/s]"
     ]
    },
    {
     "name": "stdout",
     "output_type": "stream",
     "text": [
      "                   all      0.993          1\n"
     ]
    },
    {
     "name": "stderr",
     "output_type": "stream",
     "text": [
      "\n"
     ]
    },
    {
     "name": "stdout",
     "output_type": "stream",
     "text": [
      "\n",
      "      Epoch    GPU_mem       loss  Instances       Size\n"
     ]
    },
    {
     "name": "stderr",
     "output_type": "stream",
     "text": [
      "      14/50     0.392G    0.04404         22        224: 100%|██████████| 94/94 [00:12<00:00,  7.58it/s]\n",
      "               classes   top1_acc   top5_acc: 100%|██████████| 5/5 [00:00<00:00, 38.03it/s]"
     ]
    },
    {
     "name": "stdout",
     "output_type": "stream",
     "text": [
      "                   all      0.997          1\n"
     ]
    },
    {
     "name": "stderr",
     "output_type": "stream",
     "text": [
      "\n"
     ]
    },
    {
     "name": "stdout",
     "output_type": "stream",
     "text": [
      "\n",
      "      Epoch    GPU_mem       loss  Instances       Size\n"
     ]
    },
    {
     "name": "stderr",
     "output_type": "stream",
     "text": [
      "      15/50     0.392G     0.0443         22        224: 100%|██████████| 94/94 [00:12<00:00,  7.68it/s]\n",
      "               classes   top1_acc   top5_acc: 100%|██████████| 5/5 [00:00<00:00, 36.85it/s]"
     ]
    },
    {
     "name": "stdout",
     "output_type": "stream",
     "text": [
      "                   all       0.99          1\n"
     ]
    },
    {
     "name": "stderr",
     "output_type": "stream",
     "text": [
      "\n"
     ]
    },
    {
     "name": "stdout",
     "output_type": "stream",
     "text": [
      "\n",
      "      Epoch    GPU_mem       loss  Instances       Size\n"
     ]
    },
    {
     "name": "stderr",
     "output_type": "stream",
     "text": [
      "      16/50     0.394G    0.03031         22        224: 100%|██████████| 94/94 [00:13<00:00,  7.16it/s]\n",
      "               classes   top1_acc   top5_acc: 100%|██████████| 5/5 [00:00<00:00, 55.93it/s]"
     ]
    },
    {
     "name": "stdout",
     "output_type": "stream",
     "text": [
      "                   all      0.997          1\n"
     ]
    },
    {
     "name": "stderr",
     "output_type": "stream",
     "text": [
      "\n"
     ]
    },
    {
     "name": "stdout",
     "output_type": "stream",
     "text": [
      "\n",
      "      Epoch    GPU_mem       loss  Instances       Size\n"
     ]
    },
    {
     "name": "stderr",
     "output_type": "stream",
     "text": [
      "      17/50     0.392G    0.03212         22        224: 100%|██████████| 94/94 [00:12<00:00,  7.27it/s]\n",
      "               classes   top1_acc   top5_acc: 100%|██████████| 5/5 [00:00<00:00, 35.15it/s]"
     ]
    },
    {
     "name": "stdout",
     "output_type": "stream",
     "text": [
      "                   all      0.997          1\n"
     ]
    },
    {
     "name": "stderr",
     "output_type": "stream",
     "text": [
      "\n"
     ]
    },
    {
     "name": "stdout",
     "output_type": "stream",
     "text": [
      "\n",
      "      Epoch    GPU_mem       loss  Instances       Size\n"
     ]
    },
    {
     "name": "stderr",
     "output_type": "stream",
     "text": [
      "      18/50     0.394G    0.04722         22        224: 100%|██████████| 94/94 [00:13<00:00,  6.98it/s]\n",
      "               classes   top1_acc   top5_acc: 100%|██████████| 5/5 [00:00<00:00, 37.57it/s]"
     ]
    },
    {
     "name": "stdout",
     "output_type": "stream",
     "text": [
      "                   all      0.997          1\n"
     ]
    },
    {
     "name": "stderr",
     "output_type": "stream",
     "text": [
      "\n"
     ]
    },
    {
     "name": "stdout",
     "output_type": "stream",
     "text": [
      "\n",
      "      Epoch    GPU_mem       loss  Instances       Size\n"
     ]
    },
    {
     "name": "stderr",
     "output_type": "stream",
     "text": [
      "      19/50     0.392G    0.03232         22        224: 100%|██████████| 94/94 [00:12<00:00,  7.26it/s]\n",
      "               classes   top1_acc   top5_acc: 100%|██████████| 5/5 [00:00<00:00, 35.23it/s]"
     ]
    },
    {
     "name": "stdout",
     "output_type": "stream",
     "text": [
      "                   all          1          1\n"
     ]
    },
    {
     "name": "stderr",
     "output_type": "stream",
     "text": [
      "\n"
     ]
    },
    {
     "name": "stdout",
     "output_type": "stream",
     "text": [
      "\n",
      "      Epoch    GPU_mem       loss  Instances       Size\n"
     ]
    },
    {
     "name": "stderr",
     "output_type": "stream",
     "text": [
      "      20/50     0.392G    0.02931         22        224: 100%|██████████| 94/94 [00:13<00:00,  6.86it/s]\n",
      "               classes   top1_acc   top5_acc: 100%|██████████| 5/5 [00:00<00:00, 37.43it/s]\n"
     ]
    },
    {
     "name": "stdout",
     "output_type": "stream",
     "text": [
      "                   all          1          1\n",
      "\n",
      "      Epoch    GPU_mem       loss  Instances       Size\n"
     ]
    },
    {
     "name": "stderr",
     "output_type": "stream",
     "text": [
      "      21/50     0.392G    0.03112         22        224: 100%|██████████| 94/94 [00:12<00:00,  7.32it/s]\n",
      "               classes   top1_acc   top5_acc: 100%|██████████| 5/5 [00:00<00:00, 36.57it/s]"
     ]
    },
    {
     "name": "stdout",
     "output_type": "stream",
     "text": [
      "                   all          1          1\n"
     ]
    },
    {
     "name": "stderr",
     "output_type": "stream",
     "text": [
      "\n"
     ]
    },
    {
     "name": "stdout",
     "output_type": "stream",
     "text": [
      "\n",
      "      Epoch    GPU_mem       loss  Instances       Size\n"
     ]
    },
    {
     "name": "stderr",
     "output_type": "stream",
     "text": [
      "      22/50     0.392G    0.04028         22        224: 100%|██████████| 94/94 [00:12<00:00,  7.25it/s]\n",
      "               classes   top1_acc   top5_acc: 100%|██████████| 5/5 [00:00<00:00, 43.46it/s]"
     ]
    },
    {
     "name": "stdout",
     "output_type": "stream",
     "text": [
      "                   all          1          1\n"
     ]
    },
    {
     "name": "stderr",
     "output_type": "stream",
     "text": [
      "\n"
     ]
    },
    {
     "name": "stdout",
     "output_type": "stream",
     "text": [
      "\n",
      "      Epoch    GPU_mem       loss  Instances       Size\n"
     ]
    },
    {
     "name": "stderr",
     "output_type": "stream",
     "text": [
      "      23/50     0.394G    0.02636         22        224: 100%|██████████| 94/94 [00:13<00:00,  6.78it/s]\n",
      "               classes   top1_acc   top5_acc: 100%|██████████| 5/5 [00:00<00:00, 41.09it/s]"
     ]
    },
    {
     "name": "stdout",
     "output_type": "stream",
     "text": [
      "                   all          1          1\n"
     ]
    },
    {
     "name": "stderr",
     "output_type": "stream",
     "text": [
      "\n"
     ]
    },
    {
     "name": "stdout",
     "output_type": "stream",
     "text": [
      "\n",
      "      Epoch    GPU_mem       loss  Instances       Size\n"
     ]
    },
    {
     "name": "stderr",
     "output_type": "stream",
     "text": [
      "      24/50     0.394G    0.02516         22        224: 100%|██████████| 94/94 [00:12<00:00,  7.26it/s]\n",
      "               classes   top1_acc   top5_acc: 100%|██████████| 5/5 [00:00<00:00, 37.33it/s]"
     ]
    },
    {
     "name": "stdout",
     "output_type": "stream",
     "text": [
      "                   all      0.993          1\n"
     ]
    },
    {
     "name": "stderr",
     "output_type": "stream",
     "text": [
      "\n"
     ]
    },
    {
     "name": "stdout",
     "output_type": "stream",
     "text": [
      "\n",
      "      Epoch    GPU_mem       loss  Instances       Size\n"
     ]
    },
    {
     "name": "stderr",
     "output_type": "stream",
     "text": [
      "      25/50     0.392G    0.02587         22        224: 100%|██████████| 94/94 [00:14<00:00,  6.63it/s]\n",
      "               classes   top1_acc   top5_acc: 100%|██████████| 5/5 [00:00<00:00, 35.94it/s]"
     ]
    },
    {
     "name": "stdout",
     "output_type": "stream",
     "text": [
      "                   all          1          1\n"
     ]
    },
    {
     "name": "stderr",
     "output_type": "stream",
     "text": [
      "\n"
     ]
    },
    {
     "name": "stdout",
     "output_type": "stream",
     "text": [
      "\n",
      "      Epoch    GPU_mem       loss  Instances       Size\n"
     ]
    },
    {
     "name": "stderr",
     "output_type": "stream",
     "text": [
      "      26/50     0.394G    0.01773         22        224: 100%|██████████| 94/94 [00:13<00:00,  7.11it/s]\n",
      "               classes   top1_acc   top5_acc: 100%|██████████| 5/5 [00:00<00:00, 30.49it/s]"
     ]
    },
    {
     "name": "stdout",
     "output_type": "stream",
     "text": [
      "                   all          1          1\n"
     ]
    },
    {
     "name": "stderr",
     "output_type": "stream",
     "text": [
      "\n"
     ]
    },
    {
     "name": "stdout",
     "output_type": "stream",
     "text": [
      "\n",
      "      Epoch    GPU_mem       loss  Instances       Size\n"
     ]
    },
    {
     "name": "stderr",
     "output_type": "stream",
     "text": [
      "      27/50     0.392G    0.01931         22        224: 100%|██████████| 94/94 [00:13<00:00,  6.81it/s]\n",
      "               classes   top1_acc   top5_acc: 100%|██████████| 5/5 [00:00<00:00, 47.28it/s]"
     ]
    },
    {
     "name": "stdout",
     "output_type": "stream",
     "text": [
      "                   all          1          1\n"
     ]
    },
    {
     "name": "stderr",
     "output_type": "stream",
     "text": [
      "\n"
     ]
    },
    {
     "name": "stdout",
     "output_type": "stream",
     "text": [
      "\n",
      "      Epoch    GPU_mem       loss  Instances       Size\n"
     ]
    },
    {
     "name": "stderr",
     "output_type": "stream",
     "text": [
      "      28/50     0.394G    0.01032         22        224: 100%|██████████| 94/94 [00:13<00:00,  7.12it/s]\n",
      "               classes   top1_acc   top5_acc: 100%|██████████| 5/5 [00:00<00:00, 35.47it/s]"
     ]
    },
    {
     "name": "stdout",
     "output_type": "stream",
     "text": [
      "                   all          1          1\n"
     ]
    },
    {
     "name": "stderr",
     "output_type": "stream",
     "text": [
      "\n"
     ]
    },
    {
     "name": "stdout",
     "output_type": "stream",
     "text": [
      "\n",
      "      Epoch    GPU_mem       loss  Instances       Size\n"
     ]
    },
    {
     "name": "stderr",
     "output_type": "stream",
     "text": [
      "      29/50     0.394G    0.01591         22        224: 100%|██████████| 94/94 [00:14<00:00,  6.68it/s]\n",
      "               classes   top1_acc   top5_acc: 100%|██████████| 5/5 [00:00<00:00, 39.32it/s]"
     ]
    },
    {
     "name": "stdout",
     "output_type": "stream",
     "text": [
      "                   all          1          1\n"
     ]
    },
    {
     "name": "stderr",
     "output_type": "stream",
     "text": [
      "\n"
     ]
    },
    {
     "name": "stdout",
     "output_type": "stream",
     "text": [
      "\n",
      "      Epoch    GPU_mem       loss  Instances       Size\n"
     ]
    },
    {
     "name": "stderr",
     "output_type": "stream",
     "text": [
      "      30/50     0.394G    0.02259         22        224: 100%|██████████| 94/94 [00:13<00:00,  7.10it/s]\n",
      "               classes   top1_acc   top5_acc: 100%|██████████| 5/5 [00:00<00:00, 40.89it/s]"
     ]
    },
    {
     "name": "stdout",
     "output_type": "stream",
     "text": [
      "                   all          1          1\n"
     ]
    },
    {
     "name": "stderr",
     "output_type": "stream",
     "text": [
      "\n"
     ]
    },
    {
     "name": "stdout",
     "output_type": "stream",
     "text": [
      "\n",
      "      Epoch    GPU_mem       loss  Instances       Size\n"
     ]
    },
    {
     "name": "stderr",
     "output_type": "stream",
     "text": [
      "      31/50     0.394G    0.01694         22        224: 100%|██████████| 94/94 [00:13<00:00,  6.86it/s]\n",
      "               classes   top1_acc   top5_acc: 100%|██████████| 5/5 [00:00<00:00, 26.17it/s]"
     ]
    },
    {
     "name": "stdout",
     "output_type": "stream",
     "text": [
      "                   all          1          1\n"
     ]
    },
    {
     "name": "stderr",
     "output_type": "stream",
     "text": [
      "\n"
     ]
    },
    {
     "name": "stdout",
     "output_type": "stream",
     "text": [
      "\n",
      "      Epoch    GPU_mem       loss  Instances       Size\n"
     ]
    },
    {
     "name": "stderr",
     "output_type": "stream",
     "text": [
      "      32/50     0.392G    0.02253         22        224: 100%|██████████| 94/94 [00:13<00:00,  7.12it/s]\n",
      "               classes   top1_acc   top5_acc: 100%|██████████| 5/5 [00:00<00:00, 33.04it/s]"
     ]
    },
    {
     "name": "stdout",
     "output_type": "stream",
     "text": [
      "                   all          1          1\n"
     ]
    },
    {
     "name": "stderr",
     "output_type": "stream",
     "text": [
      "\n"
     ]
    },
    {
     "name": "stdout",
     "output_type": "stream",
     "text": [
      "\n",
      "      Epoch    GPU_mem       loss  Instances       Size\n"
     ]
    },
    {
     "name": "stderr",
     "output_type": "stream",
     "text": [
      "      33/50     0.392G   0.008357         22        224: 100%|██████████| 94/94 [00:13<00:00,  7.09it/s]\n",
      "               classes   top1_acc   top5_acc: 100%|██████████| 5/5 [00:00<00:00, 34.79it/s]"
     ]
    },
    {
     "name": "stdout",
     "output_type": "stream",
     "text": [
      "                   all      0.997          1\n"
     ]
    },
    {
     "name": "stderr",
     "output_type": "stream",
     "text": [
      "\n"
     ]
    },
    {
     "name": "stdout",
     "output_type": "stream",
     "text": [
      "\n",
      "      Epoch    GPU_mem       loss  Instances       Size\n"
     ]
    },
    {
     "name": "stderr",
     "output_type": "stream",
     "text": [
      "      34/50     0.394G    0.01669         22        224: 100%|██████████| 94/94 [00:13<00:00,  6.92it/s]\n",
      "               classes   top1_acc   top5_acc: 100%|██████████| 5/5 [00:00<00:00, 54.23it/s]"
     ]
    },
    {
     "name": "stdout",
     "output_type": "stream",
     "text": [
      "                   all      0.997          1\n"
     ]
    },
    {
     "name": "stderr",
     "output_type": "stream",
     "text": [
      "\n"
     ]
    },
    {
     "name": "stdout",
     "output_type": "stream",
     "text": [
      "\n",
      "      Epoch    GPU_mem       loss  Instances       Size\n"
     ]
    },
    {
     "name": "stderr",
     "output_type": "stream",
     "text": [
      "      35/50     0.392G    0.01836         22        224: 100%|██████████| 94/94 [00:13<00:00,  7.07it/s]\n",
      "               classes   top1_acc   top5_acc: 100%|██████████| 5/5 [00:00<00:00, 35.24it/s]"
     ]
    },
    {
     "name": "stdout",
     "output_type": "stream",
     "text": [
      "                   all      0.997          1\n"
     ]
    },
    {
     "name": "stderr",
     "output_type": "stream",
     "text": [
      "\n"
     ]
    },
    {
     "name": "stdout",
     "output_type": "stream",
     "text": [
      "\n",
      "      Epoch    GPU_mem       loss  Instances       Size\n"
     ]
    },
    {
     "name": "stderr",
     "output_type": "stream",
     "text": [
      "      36/50     0.394G    0.01463         22        224: 100%|██████████| 94/94 [00:13<00:00,  6.91it/s]\n",
      "               classes   top1_acc   top5_acc: 100%|██████████| 5/5 [00:00<00:00, 32.59it/s]"
     ]
    },
    {
     "name": "stdout",
     "output_type": "stream",
     "text": [
      "                   all          1          1\n"
     ]
    },
    {
     "name": "stderr",
     "output_type": "stream",
     "text": [
      "\n"
     ]
    },
    {
     "name": "stdout",
     "output_type": "stream",
     "text": [
      "\n",
      "      Epoch    GPU_mem       loss  Instances       Size\n"
     ]
    },
    {
     "name": "stderr",
     "output_type": "stream",
     "text": [
      "      37/50     0.392G     0.0217         22        224: 100%|██████████| 94/94 [00:13<00:00,  7.21it/s]\n",
      "               classes   top1_acc   top5_acc: 100%|██████████| 5/5 [00:00<00:00, 35.00it/s]"
     ]
    },
    {
     "name": "stdout",
     "output_type": "stream",
     "text": [
      "                   all      0.997          1\n"
     ]
    },
    {
     "name": "stderr",
     "output_type": "stream",
     "text": [
      "\n"
     ]
    },
    {
     "name": "stdout",
     "output_type": "stream",
     "text": [
      "\n",
      "      Epoch    GPU_mem       loss  Instances       Size\n"
     ]
    },
    {
     "name": "stderr",
     "output_type": "stream",
     "text": [
      "      38/50     0.394G   0.007199         22        224: 100%|██████████| 94/94 [00:13<00:00,  6.89it/s]\n",
      "               classes   top1_acc   top5_acc: 100%|██████████| 5/5 [00:00<00:00, 34.83it/s]"
     ]
    },
    {
     "name": "stdout",
     "output_type": "stream",
     "text": [
      "                   all          1          1\n"
     ]
    },
    {
     "name": "stderr",
     "output_type": "stream",
     "text": [
      "\n"
     ]
    },
    {
     "name": "stdout",
     "output_type": "stream",
     "text": [
      "\n",
      "      Epoch    GPU_mem       loss  Instances       Size\n"
     ]
    },
    {
     "name": "stderr",
     "output_type": "stream",
     "text": [
      "      39/50     0.394G    0.01095         22        224: 100%|██████████| 94/94 [00:13<00:00,  7.03it/s]\n",
      "               classes   top1_acc   top5_acc: 100%|██████████| 5/5 [00:00<00:00, 44.17it/s]"
     ]
    },
    {
     "name": "stdout",
     "output_type": "stream",
     "text": [
      "                   all      0.997          1\n"
     ]
    },
    {
     "name": "stderr",
     "output_type": "stream",
     "text": [
      "\n"
     ]
    },
    {
     "name": "stdout",
     "output_type": "stream",
     "text": [
      "\n",
      "      Epoch    GPU_mem       loss  Instances       Size\n"
     ]
    },
    {
     "name": "stderr",
     "output_type": "stream",
     "text": [
      "      40/50     0.394G   0.008274         22        224: 100%|██████████| 94/94 [00:13<00:00,  6.75it/s]\n",
      "               classes   top1_acc   top5_acc: 100%|██████████| 5/5 [00:00<00:00, 27.49it/s]\n"
     ]
    },
    {
     "name": "stdout",
     "output_type": "stream",
     "text": [
      "                   all      0.997          1\n",
      "\n",
      "      Epoch    GPU_mem       loss  Instances       Size\n"
     ]
    },
    {
     "name": "stderr",
     "output_type": "stream",
     "text": [
      "      41/50     0.413G     0.0115         22        224: 100%|██████████| 94/94 [00:13<00:00,  6.75it/s]\n",
      "               classes   top1_acc   top5_acc: 100%|██████████| 5/5 [00:00<00:00, 27.05it/s]"
     ]
    },
    {
     "name": "stdout",
     "output_type": "stream",
     "text": [
      "                   all          1          1\n"
     ]
    },
    {
     "name": "stderr",
     "output_type": "stream",
     "text": [
      "\n"
     ]
    },
    {
     "name": "stdout",
     "output_type": "stream",
     "text": [
      "\n",
      "      Epoch    GPU_mem       loss  Instances       Size\n"
     ]
    },
    {
     "name": "stderr",
     "output_type": "stream",
     "text": [
      "      42/50     0.392G   0.006483         22        224: 100%|██████████| 94/94 [00:13<00:00,  7.20it/s]\n",
      "               classes   top1_acc   top5_acc: 100%|██████████| 5/5 [00:00<00:00, 19.13it/s]"
     ]
    },
    {
     "name": "stdout",
     "output_type": "stream",
     "text": [
      "                   all      0.997          1\n"
     ]
    },
    {
     "name": "stderr",
     "output_type": "stream",
     "text": [
      "\n"
     ]
    },
    {
     "name": "stdout",
     "output_type": "stream",
     "text": [
      "\n",
      "      Epoch    GPU_mem       loss  Instances       Size\n"
     ]
    },
    {
     "name": "stderr",
     "output_type": "stream",
     "text": [
      "      43/50     0.394G   0.008263         22        224: 100%|██████████| 94/94 [00:14<00:00,  6.71it/s]\n",
      "               classes   top1_acc   top5_acc: 100%|██████████| 5/5 [00:00<00:00, 39.11it/s]"
     ]
    },
    {
     "name": "stdout",
     "output_type": "stream",
     "text": [
      "                   all      0.997          1\n"
     ]
    },
    {
     "name": "stderr",
     "output_type": "stream",
     "text": [
      "\n"
     ]
    },
    {
     "name": "stdout",
     "output_type": "stream",
     "text": [
      "\n",
      "      Epoch    GPU_mem       loss  Instances       Size\n"
     ]
    },
    {
     "name": "stderr",
     "output_type": "stream",
     "text": [
      "      44/50     0.394G    0.01706         22        224: 100%|██████████| 94/94 [00:13<00:00,  7.07it/s]\n",
      "               classes   top1_acc   top5_acc: 100%|██████████| 5/5 [00:00<00:00, 35.16it/s]"
     ]
    },
    {
     "name": "stdout",
     "output_type": "stream",
     "text": [
      "                   all      0.997          1\n"
     ]
    },
    {
     "name": "stderr",
     "output_type": "stream",
     "text": [
      "\n"
     ]
    },
    {
     "name": "stdout",
     "output_type": "stream",
     "text": [
      "\n",
      "      Epoch    GPU_mem       loss  Instances       Size\n"
     ]
    },
    {
     "name": "stderr",
     "output_type": "stream",
     "text": [
      "      45/50     0.394G   0.005254         22        224: 100%|██████████| 94/94 [00:13<00:00,  6.76it/s]\n",
      "               classes   top1_acc   top5_acc: 100%|██████████| 5/5 [00:00<00:00, 39.40it/s]"
     ]
    },
    {
     "name": "stdout",
     "output_type": "stream",
     "text": [
      "                   all      0.997          1\n"
     ]
    },
    {
     "name": "stderr",
     "output_type": "stream",
     "text": [
      "\n"
     ]
    },
    {
     "name": "stdout",
     "output_type": "stream",
     "text": [
      "\n",
      "      Epoch    GPU_mem       loss  Instances       Size\n"
     ]
    },
    {
     "name": "stderr",
     "output_type": "stream",
     "text": [
      "      46/50     0.392G    0.00461         22        224: 100%|██████████| 94/94 [00:13<00:00,  6.98it/s]\n",
      "               classes   top1_acc   top5_acc: 100%|██████████| 5/5 [00:00<00:00, 32.85it/s]"
     ]
    },
    {
     "name": "stdout",
     "output_type": "stream",
     "text": [
      "                   all      0.997          1\n"
     ]
    },
    {
     "name": "stderr",
     "output_type": "stream",
     "text": [
      "\n"
     ]
    },
    {
     "name": "stdout",
     "output_type": "stream",
     "text": [
      "\n",
      "      Epoch    GPU_mem       loss  Instances       Size\n"
     ]
    },
    {
     "name": "stderr",
     "output_type": "stream",
     "text": [
      "      47/50     0.394G   0.006137         22        224: 100%|██████████| 94/94 [00:14<00:00,  6.71it/s]\n",
      "               classes   top1_acc   top5_acc: 100%|██████████| 5/5 [00:00<00:00, 31.85it/s]"
     ]
    },
    {
     "name": "stdout",
     "output_type": "stream",
     "text": [
      "                   all      0.997          1\n"
     ]
    },
    {
     "name": "stderr",
     "output_type": "stream",
     "text": [
      "\n"
     ]
    },
    {
     "name": "stdout",
     "output_type": "stream",
     "text": [
      "\n",
      "      Epoch    GPU_mem       loss  Instances       Size\n"
     ]
    },
    {
     "name": "stderr",
     "output_type": "stream",
     "text": [
      "      48/50     0.392G   0.005936         22        224: 100%|██████████| 94/94 [00:13<00:00,  7.19it/s]\n",
      "               classes   top1_acc   top5_acc: 100%|██████████| 5/5 [00:00<00:00, 31.48it/s]"
     ]
    },
    {
     "name": "stdout",
     "output_type": "stream",
     "text": [
      "                   all          1          1\n"
     ]
    },
    {
     "name": "stderr",
     "output_type": "stream",
     "text": [
      "\n"
     ]
    },
    {
     "name": "stdout",
     "output_type": "stream",
     "text": [
      "\n",
      "      Epoch    GPU_mem       loss  Instances       Size\n"
     ]
    },
    {
     "name": "stderr",
     "output_type": "stream",
     "text": [
      "      49/50     0.392G   0.008728         22        224: 100%|██████████| 94/94 [00:13<00:00,  6.83it/s]\n",
      "               classes   top1_acc   top5_acc: 100%|██████████| 5/5 [00:00<00:00, 32.46it/s]"
     ]
    },
    {
     "name": "stdout",
     "output_type": "stream",
     "text": [
      "                   all          1          1\n"
     ]
    },
    {
     "name": "stderr",
     "output_type": "stream",
     "text": [
      "\n"
     ]
    },
    {
     "name": "stdout",
     "output_type": "stream",
     "text": [
      "\n",
      "      Epoch    GPU_mem       loss  Instances       Size\n"
     ]
    },
    {
     "name": "stderr",
     "output_type": "stream",
     "text": [
      "      50/50     0.394G    0.01002         22        224: 100%|██████████| 94/94 [00:13<00:00,  6.93it/s]\n",
      "               classes   top1_acc   top5_acc: 100%|██████████| 5/5 [00:00<00:00, 30.38it/s]"
     ]
    },
    {
     "name": "stdout",
     "output_type": "stream",
     "text": [
      "                   all      0.997          1\n"
     ]
    },
    {
     "name": "stderr",
     "output_type": "stream",
     "text": [
      "\n"
     ]
    },
    {
     "name": "stdout",
     "output_type": "stream",
     "text": [
      "\n",
      "50 epochs completed in 0.201 hours.\n",
      "Optimizer stripped from runs/classify/train/weights/last.pt, 3.0MB\n",
      "Optimizer stripped from runs/classify/train/weights/best.pt, 3.0MB\n",
      "\n",
      "Validating runs/classify/train/weights/best.pt...\n",
      "Ultralytics 8.3.69 🚀 Python-3.10.12 torch-2.5.1+cu121 CUDA:0 (Tesla T4, 15095MiB)\n",
      "YOLOv8n-cls summary (fused): 73 layers, 1,440,004 parameters, 0 gradients, 3.3 GFLOPs\n",
      "WARNING ⚠️ Dataset 'split=val' not found, using 'split=test' instead.\n",
      "\u001b[34m\u001b[1mtrain:\u001b[0m /kaggle/input/soil-classification2/train... found 2998 images in 4 classes ✅ \n",
      "\u001b[34m\u001b[1mval:\u001b[0m None...\n",
      "\u001b[34m\u001b[1mtest:\u001b[0m /kaggle/input/soil-classification2/test... found 286 images in 4 classes ✅ \n"
     ]
    },
    {
     "name": "stderr",
     "output_type": "stream",
     "text": [
      "               classes   top1_acc   top5_acc: 100%|██████████| 5/5 [00:00<00:00, 13.74it/s]\n",
      "/usr/local/lib/python3.10/dist-packages/matplotlib/colors.py:721: RuntimeWarning: invalid value encountered in less\n",
      "  xa[xa < 0] = -1\n",
      "/usr/local/lib/python3.10/dist-packages/matplotlib/colors.py:721: RuntimeWarning: invalid value encountered in less\n",
      "  xa[xa < 0] = -1\n"
     ]
    },
    {
     "name": "stdout",
     "output_type": "stream",
     "text": [
      "                   all          1          1\n",
      "Speed: 0.2ms preprocess, 0.7ms inference, 0.0ms loss, 0.0ms postprocess per image\n",
      "Results saved to \u001b[1mruns/classify/train\u001b[0m\n"
     ]
    },
    {
     "data": {
      "text/plain": [
       "ultralytics.utils.metrics.ClassifyMetrics object with attributes:\n",
       "\n",
       "confusion_matrix: <ultralytics.utils.metrics.ConfusionMatrix object at 0x7f1161f6ae90>\n",
       "curves: []\n",
       "curves_results: []\n",
       "fitness: 1.0\n",
       "keys: ['metrics/accuracy_top1', 'metrics/accuracy_top5']\n",
       "results_dict: {'metrics/accuracy_top1': 1.0, 'metrics/accuracy_top5': 1.0, 'fitness': 1.0}\n",
       "save_dir: PosixPath('runs/classify/train')\n",
       "speed: {'preprocess': 0.2190491536280492, 'inference': 0.7459958950122753, 'loss': 0.000380135916329764, 'postprocess': 0.0005351913558853255}\n",
       "task: 'classify'\n",
       "top1: 1.0\n",
       "top5: 1.0"
      ]
     },
     "execution_count": 3,
     "metadata": {},
     "output_type": "execute_result"
    }
   ],
   "source": [
    "dataset_path = \"/kaggle/input/soil-classification2\"  # Change this to your dataset path\n",
    "\n",
    "model.train(\n",
    "    data=dataset_path,\n",
    "    epochs=50,  # Number of epochs to train (adjust as needed)\n",
    "    imgsz=224,  # Image size (YOLOv8 default for classification)\n",
    "    batch=32,   # Batch size\n",
    "    device=0    # GPU ID (use 'cpu' if no GPU is available)\n",
    ")"
   ]
  },
  {
   "cell_type": "code",
   "execution_count": 4,
   "id": "ebfa013e",
   "metadata": {
    "execution": {
     "iopub.execute_input": "2025-01-30T09:32:46.771910Z",
     "iopub.status.busy": "2025-01-30T09:32:46.771481Z",
     "iopub.status.idle": "2025-01-30T09:32:46.779775Z",
     "shell.execute_reply": "2025-01-30T09:32:46.778880Z"
    },
    "papermill": {
     "duration": 0.484757,
     "end_time": "2025-01-30T09:32:46.781366",
     "exception": false,
     "start_time": "2025-01-30T09:32:46.296609",
     "status": "completed"
    },
    "tags": []
   },
   "outputs": [
    {
     "name": "stdout",
     "output_type": "stream",
     "text": [
      "data.yaml created at: data.yaml\n"
     ]
    }
   ],
   "source": [
    "import yaml\n",
    "\n",
    "# Define dataset configuration\n",
    "data_config = {\n",
    "    'path': '/kaggle/input/soil-classification2',  # Base path to your dataset\n",
    "    'train': 'train',  # Training folder\n",
    "    'val': 'valid',  # Validation folder\n",
    "    'test': 'test',  # Test folder\n",
    "    'names': {\n",
    "        0: 'clay soil_augmented',  # Replace 'class1' with the actual class name\n",
    "        1: 'lal soil augmented',  # Replace 'class2' with the actual class name\n",
    "        2: 'loamy soil augmented',  # Replace 'class3' with the actual class name\n",
    "        3: 'sandy soil augmented'   # Replace 'class4' with the actual class name\n",
    "    }\n",
    "}\n",
    "\n",
    "# Save to a YAML file\n",
    "yaml_file_path = 'data.yaml'\n",
    "with open(yaml_file_path, 'w') as file:\n",
    "    yaml.dump(data_config, file)\n",
    "\n",
    "print(f\"data.yaml created at: {yaml_file_path}\")"
   ]
  },
  {
   "cell_type": "code",
   "execution_count": 5,
   "id": "9a0fc5b0",
   "metadata": {
    "execution": {
     "iopub.execute_input": "2025-01-30T09:32:47.604398Z",
     "iopub.status.busy": "2025-01-30T09:32:47.604070Z",
     "iopub.status.idle": "2025-01-30T09:32:52.060569Z",
     "shell.execute_reply": "2025-01-30T09:32:52.059310Z"
    },
    "papermill": {
     "duration": 4.868443,
     "end_time": "2025-01-30T09:32:52.062502",
     "exception": false,
     "start_time": "2025-01-30T09:32:47.194059",
     "status": "completed"
    },
    "tags": []
   },
   "outputs": [
    {
     "name": "stdout",
     "output_type": "stream",
     "text": [
      "Ultralytics 8.3.69 🚀 Python-3.10.12 torch-2.5.1+cu121 CUDA:0 (Tesla T4, 15095MiB)\n",
      "YOLOv8n-cls summary (fused): 73 layers, 1,440,004 parameters, 0 gradients, 3.3 GFLOPs\n"
     ]
    },
    {
     "name": "stderr",
     "output_type": "stream",
     "text": [
      "\u001b[34m\u001b[1mval: \u001b[0mScanning /kaggle/input/soil-classification2/valid... 289 images, 0 corrupt: 100%|██████████| 289/289 [00:00<00:00, 550.15it/s]"
     ]
    },
    {
     "name": "stdout",
     "output_type": "stream",
     "text": [
      "\u001b[34m\u001b[1mval: \u001b[0mWARNING ⚠️ Cache directory /kaggle/input/soil-classification2 is not writeable, cache not saved.\n"
     ]
    },
    {
     "name": "stderr",
     "output_type": "stream",
     "text": [
      "\n",
      "               classes   top1_acc   top5_acc: 100%|██████████| 10/10 [00:01<00:00,  7.00it/s]\n",
      "/usr/local/lib/python3.10/dist-packages/matplotlib/colors.py:721: RuntimeWarning: invalid value encountered in less\n",
      "  xa[xa < 0] = -1\n",
      "/usr/local/lib/python3.10/dist-packages/matplotlib/colors.py:721: RuntimeWarning: invalid value encountered in less\n",
      "  xa[xa < 0] = -1\n"
     ]
    },
    {
     "name": "stdout",
     "output_type": "stream",
     "text": [
      "                   all          1          1\n",
      "Speed: 0.1ms preprocess, 1.5ms inference, 0.0ms loss, 0.0ms postprocess per image\n",
      "Results saved to \u001b[1mruns/classify/train2\u001b[0m\n",
      "Validation Metrics:\n",
      "ultralytics.utils.metrics.ClassifyMetrics object with attributes:\n",
      "\n",
      "confusion_matrix: <ultralytics.utils.metrics.ConfusionMatrix object at 0x7f10c013a770>\n",
      "curves: []\n",
      "curves_results: []\n",
      "fitness: 1.0\n",
      "keys: ['metrics/accuracy_top1', 'metrics/accuracy_top5']\n",
      "results_dict: {'metrics/accuracy_top1': 1.0, 'metrics/accuracy_top5': 1.0, 'fitness': 1.0}\n",
      "save_dir: PosixPath('runs/classify/train2')\n",
      "speed: {'preprocess': 0.0805186565359571, 'inference': 1.487953027639422, 'loss': 0.000937174760759083, 'postprocess': 0.011966302733107833}\n",
      "task: 'classify'\n",
      "top1: 1.0\n",
      "top5: 1.0\n"
     ]
    }
   ],
   "source": [
    "# Evaluate the model using the data.yaml configuration file\n",
    "metrics = model.val(data=\"data.yaml\")\n",
    "\n",
    "# Print the validation metrics\n",
    "print(\"Validation Metrics:\")\n",
    "print(metrics)"
   ]
  },
  {
   "cell_type": "code",
   "execution_count": 6,
   "id": "7d17e736",
   "metadata": {
    "execution": {
     "iopub.execute_input": "2025-01-30T09:32:52.956076Z",
     "iopub.status.busy": "2025-01-30T09:32:52.955657Z",
     "iopub.status.idle": "2025-01-30T09:32:53.999789Z",
     "shell.execute_reply": "2025-01-30T09:32:53.998648Z"
    },
    "papermill": {
     "duration": 1.462835,
     "end_time": "2025-01-30T09:32:54.001742",
     "exception": false,
     "start_time": "2025-01-30T09:32:52.538907",
     "status": "completed"
    },
    "tags": []
   },
   "outputs": [
    {
     "data": {
      "image/png": "[encoded data removed]",
      "text/plain": [
       "<Figure size 1000x1000 with 1 Axes>"
      ]
     },
     "metadata": {},
     "output_type": "display_data"
    },
    {
     "name": "stdout",
     "output_type": "stream",
     "text": [
      "Loss curve saved successfully: loss_curve.png\n"
     ]
    }
   ],
   "source": [
    "import pandas as pd\n",
    "import matplotlib.pyplot as plt\n",
    "\n",
    "# Path to the results CSV file (adjust the path as needed)\n",
    "results_csv_path = \"/kaggle/working/runs/classify/train/results.csv\"\n",
    "\n",
    "# Load the results into a DataFrame\n",
    "results = pd.read_csv(results_csv_path)\n",
    "\n",
    "# Save path for the plot\n",
    "save_path = \"loss_curve.png\"\n",
    "\n",
    "# Plot Train Loss vs Validation Loss\n",
    "plt.figure(figsize=(10, 10))\n",
    "plt.plot(results['train/loss'], label='Train Loss', color='blue', marker='o')\n",
    "plt.plot(results['val/loss'], label='Validation Loss', color='orange', marker='o')\n",
    "\n",
    "# Add labels, title, and legend\n",
    "plt.xlabel('Epochs')\n",
    "plt.ylabel('Loss')\n",
    "plt.title('Train vs Validation Loss Curve')\n",
    "plt.legend()\n",
    "plt.grid(True)\n",
    "\n",
    "# Save the plot before showing\n",
    "plt.savefig(save_path, dpi=300, bbox_inches='tight')\n",
    "plt.show()\n",
    "\n",
    "print(f\"Loss curve saved successfully: {save_path}\")\n"
   ]
  },
  {
   "cell_type": "code",
   "execution_count": 7,
   "id": "5a5ac3af",
   "metadata": {
    "execution": {
     "iopub.execute_input": "2025-01-30T09:32:54.893187Z",
     "iopub.status.busy": "2025-01-30T09:32:54.892843Z",
     "iopub.status.idle": "2025-01-30T09:32:59.844941Z",
     "shell.execute_reply": "2025-01-30T09:32:59.843822Z"
    },
    "papermill": {
     "duration": 5.429471,
     "end_time": "2025-01-30T09:32:59.846669",
     "exception": false,
     "start_time": "2025-01-30T09:32:54.417198",
     "status": "completed"
    },
    "tags": []
   },
   "outputs": [
    {
     "name": "stdout",
     "output_type": "stream",
     "text": [
      "\n",
      "0: 224x224 clay soil_augmented 1.00, loamy soil augmented 0.00, sandy soil augmented 0.00, lal soil augmented 0.00, 0.3ms\n",
      "1: 224x224 clay soil_augmented 1.00, loamy soil augmented 0.00, sandy soil augmented 0.00, lal soil augmented 0.00, 0.3ms\n",
      "2: 224x224 clay soil_augmented 1.00, sandy soil augmented 0.00, loamy soil augmented 0.00, lal soil augmented 0.00, 0.3ms\n",
      "3: 224x224 clay soil_augmented 1.00, lal soil augmented 0.00, sandy soil augmented 0.00, loamy soil augmented 0.00, 0.3ms\n",
      "4: 224x224 clay soil_augmented 1.00, sandy soil augmented 0.00, lal soil augmented 0.00, loamy soil augmented 0.00, 0.3ms\n",
      "5: 224x224 clay soil_augmented 1.00, sandy soil augmented 0.00, lal soil augmented 0.00, loamy soil augmented 0.00, 0.3ms\n",
      "6: 224x224 clay soil_augmented 1.00, loamy soil augmented 0.00, lal soil augmented 0.00, sandy soil augmented 0.00, 0.3ms\n",
      "7: 224x224 clay soil_augmented 1.00, lal soil augmented 0.00, loamy soil augmented 0.00, sandy soil augmented 0.00, 0.3ms\n",
      "8: 224x224 clay soil_augmented 1.00, lal soil augmented 0.00, loamy soil augmented 0.00, sandy soil augmented 0.00, 0.3ms\n",
      "9: 224x224 clay soil_augmented 1.00, loamy soil augmented 0.00, sandy soil augmented 0.00, lal soil augmented 0.00, 0.3ms\n",
      "10: 224x224 clay soil_augmented 1.00, sandy soil augmented 0.00, lal soil augmented 0.00, loamy soil augmented 0.00, 0.3ms\n",
      "11: 224x224 clay soil_augmented 1.00, sandy soil augmented 0.00, lal soil augmented 0.00, loamy soil augmented 0.00, 0.3ms\n",
      "12: 224x224 clay soil_augmented 1.00, loamy soil augmented 0.00, lal soil augmented 0.00, sandy soil augmented 0.00, 0.3ms\n",
      "13: 224x224 clay soil_augmented 1.00, loamy soil augmented 0.00, sandy soil augmented 0.00, lal soil augmented 0.00, 0.3ms\n",
      "14: 224x224 clay soil_augmented 1.00, loamy soil augmented 0.00, sandy soil augmented 0.00, lal soil augmented 0.00, 0.3ms\n",
      "15: 224x224 clay soil_augmented 1.00, loamy soil augmented 0.00, lal soil augmented 0.00, sandy soil augmented 0.00, 0.3ms\n",
      "16: 224x224 clay soil_augmented 1.00, lal soil augmented 0.00, sandy soil augmented 0.00, loamy soil augmented 0.00, 0.3ms\n",
      "17: 224x224 clay soil_augmented 1.00, loamy soil augmented 0.00, lal soil augmented 0.00, sandy soil augmented 0.00, 0.3ms\n",
      "18: 224x224 clay soil_augmented 1.00, loamy soil augmented 0.00, sandy soil augmented 0.00, lal soil augmented 0.00, 0.3ms\n",
      "19: 224x224 clay soil_augmented 1.00, loamy soil augmented 0.00, sandy soil augmented 0.00, lal soil augmented 0.00, 0.3ms\n",
      "20: 224x224 clay soil_augmented 1.00, sandy soil augmented 0.00, loamy soil augmented 0.00, lal soil augmented 0.00, 0.3ms\n",
      "21: 224x224 clay soil_augmented 1.00, loamy soil augmented 0.00, lal soil augmented 0.00, sandy soil augmented 0.00, 0.3ms\n",
      "22: 224x224 clay soil_augmented 1.00, sandy soil augmented 0.00, lal soil augmented 0.00, loamy soil augmented 0.00, 0.3ms\n",
      "23: 224x224 clay soil_augmented 1.00, loamy soil augmented 0.00, sandy soil augmented 0.00, lal soil augmented 0.00, 0.3ms\n",
      "24: 224x224 clay soil_augmented 1.00, sandy soil augmented 0.00, lal soil augmented 0.00, loamy soil augmented 0.00, 0.3ms\n",
      "25: 224x224 clay soil_augmented 1.00, loamy soil augmented 0.00, sandy soil augmented 0.00, lal soil augmented 0.00, 0.3ms\n",
      "26: 224x224 clay soil_augmented 1.00, sandy soil augmented 0.00, loamy soil augmented 0.00, lal soil augmented 0.00, 0.3ms\n",
      "27: 224x224 clay soil_augmented 1.00, lal soil augmented 0.00, sandy soil augmented 0.00, loamy soil augmented 0.00, 0.3ms\n",
      "28: 224x224 clay soil_augmented 1.00, lal soil augmented 0.00, sandy soil augmented 0.00, loamy soil augmented 0.00, 0.3ms\n",
      "29: 224x224 clay soil_augmented 1.00, lal soil augmented 0.00, sandy soil augmented 0.00, loamy soil augmented 0.00, 0.3ms\n",
      "30: 224x224 clay soil_augmented 1.00, loamy soil augmented 0.00, sandy soil augmented 0.00, lal soil augmented 0.00, 0.3ms\n",
      "31: 224x224 clay soil_augmented 1.00, loamy soil augmented 0.00, sandy soil augmented 0.00, lal soil augmented 0.00, 0.3ms\n",
      "32: 224x224 clay soil_augmented 1.00, sandy soil augmented 0.00, lal soil augmented 0.00, loamy soil augmented 0.00, 0.3ms\n",
      "33: 224x224 clay soil_augmented 1.00, loamy soil augmented 0.00, lal soil augmented 0.00, sandy soil augmented 0.00, 0.3ms\n",
      "34: 224x224 clay soil_augmented 1.00, sandy soil augmented 0.00, loamy soil augmented 0.00, lal soil augmented 0.00, 0.3ms\n",
      "35: 224x224 clay soil_augmented 1.00, sandy soil augmented 0.00, loamy soil augmented 0.00, lal soil augmented 0.00, 0.3ms\n",
      "36: 224x224 clay soil_augmented 1.00, sandy soil augmented 0.00, loamy soil augmented 0.00, lal soil augmented 0.00, 0.3ms\n",
      "37: 224x224 clay soil_augmented 1.00, loamy soil augmented 0.00, sandy soil augmented 0.00, lal soil augmented 0.00, 0.3ms\n",
      "38: 224x224 clay soil_augmented 1.00, loamy soil augmented 0.00, sandy soil augmented 0.00, lal soil augmented 0.00, 0.3ms\n",
      "39: 224x224 clay soil_augmented 1.00, sandy soil augmented 0.00, lal soil augmented 0.00, loamy soil augmented 0.00, 0.3ms\n",
      "40: 224x224 clay soil_augmented 1.00, loamy soil augmented 0.00, lal soil augmented 0.00, sandy soil augmented 0.00, 0.3ms\n",
      "41: 224x224 clay soil_augmented 1.00, sandy soil augmented 0.00, lal soil augmented 0.00, loamy soil augmented 0.00, 0.3ms\n",
      "42: 224x224 clay soil_augmented 1.00, sandy soil augmented 0.00, loamy soil augmented 0.00, lal soil augmented 0.00, 0.3ms\n",
      "43: 224x224 clay soil_augmented 1.00, loamy soil augmented 0.00, sandy soil augmented 0.00, lal soil augmented 0.00, 0.3ms\n",
      "44: 224x224 clay soil_augmented 1.00, sandy soil augmented 0.00, loamy soil augmented 0.00, lal soil augmented 0.00, 0.3ms\n",
      "45: 224x224 clay soil_augmented 0.99, loamy soil augmented 0.00, sandy soil augmented 0.00, lal soil augmented 0.00, 0.3ms\n",
      "46: 224x224 clay soil_augmented 1.00, loamy soil augmented 0.00, lal soil augmented 0.00, sandy soil augmented 0.00, 0.3ms\n",
      "47: 224x224 clay soil_augmented 1.00, loamy soil augmented 0.00, lal soil augmented 0.00, sandy soil augmented 0.00, 0.3ms\n",
      "48: 224x224 clay soil_augmented 1.00, sandy soil augmented 0.00, loamy soil augmented 0.00, lal soil augmented 0.00, 0.3ms\n",
      "49: 224x224 clay soil_augmented 1.00, loamy soil augmented 0.00, lal soil augmented 0.00, sandy soil augmented 0.00, 0.3ms\n",
      "50: 224x224 clay soil_augmented 1.00, sandy soil augmented 0.00, lal soil augmented 0.00, loamy soil augmented 0.00, 0.3ms\n",
      "51: 224x224 clay soil_augmented 1.00, loamy soil augmented 0.00, sandy soil augmented 0.00, lal soil augmented 0.00, 0.3ms\n",
      "52: 224x224 clay soil_augmented 1.00, sandy soil augmented 0.00, loamy soil augmented 0.00, lal soil augmented 0.00, 0.3ms\n",
      "53: 224x224 clay soil_augmented 1.00, lal soil augmented 0.00, loamy soil augmented 0.00, sandy soil augmented 0.00, 0.3ms\n",
      "54: 224x224 clay soil_augmented 1.00, loamy soil augmented 0.00, sandy soil augmented 0.00, lal soil augmented 0.00, 0.3ms\n",
      "55: 224x224 clay soil_augmented 1.00, sandy soil augmented 0.00, loamy soil augmented 0.00, lal soil augmented 0.00, 0.3ms\n",
      "56: 224x224 clay soil_augmented 1.00, sandy soil augmented 0.00, loamy soil augmented 0.00, lal soil augmented 0.00, 0.3ms\n",
      "57: 224x224 clay soil_augmented 1.00, loamy soil augmented 0.00, sandy soil augmented 0.00, lal soil augmented 0.00, 0.3ms\n",
      "58: 224x224 clay soil_augmented 1.00, loamy soil augmented 0.00, sandy soil augmented 0.00, lal soil augmented 0.00, 0.3ms\n",
      "59: 224x224 clay soil_augmented 1.00, loamy soil augmented 0.00, sandy soil augmented 0.00, lal soil augmented 0.00, 0.3ms\n",
      "60: 224x224 clay soil_augmented 1.00, loamy soil augmented 0.00, sandy soil augmented 0.00, lal soil augmented 0.00, 0.3ms\n",
      "61: 224x224 clay soil_augmented 1.00, sandy soil augmented 0.00, lal soil augmented 0.00, loamy soil augmented 0.00, 0.3ms\n",
      "62: 224x224 clay soil_augmented 1.00, loamy soil augmented 0.00, lal soil augmented 0.00, sandy soil augmented 0.00, 0.3ms\n",
      "63: 224x224 clay soil_augmented 1.00, sandy soil augmented 0.00, loamy soil augmented 0.00, lal soil augmented 0.00, 0.3ms\n",
      "64: 224x224 clay soil_augmented 1.00, sandy soil augmented 0.00, loamy soil augmented 0.00, lal soil augmented 0.00, 0.3ms\n",
      "65: 224x224 lal soil augmented 1.00, sandy soil augmented 0.00, loamy soil augmented 0.00, clay soil_augmented 0.00, 0.3ms\n",
      "66: 224x224 lal soil augmented 1.00, sandy soil augmented 0.00, loamy soil augmented 0.00, clay soil_augmented 0.00, 0.3ms\n",
      "67: 224x224 lal soil augmented 1.00, sandy soil augmented 0.00, clay soil_augmented 0.00, loamy soil augmented 0.00, 0.3ms\n",
      "68: 224x224 lal soil augmented 1.00, sandy soil augmented 0.00, loamy soil augmented 0.00, clay soil_augmented 0.00, 0.3ms\n",
      "69: 224x224 lal soil augmented 1.00, sandy soil augmented 0.00, loamy soil augmented 0.00, clay soil_augmented 0.00, 0.3ms\n",
      "70: 224x224 lal soil augmented 1.00, sandy soil augmented 0.00, loamy soil augmented 0.00, clay soil_augmented 0.00, 0.3ms\n",
      "71: 224x224 lal soil augmented 1.00, sandy soil augmented 0.00, clay soil_augmented 0.00, loamy soil augmented 0.00, 0.3ms\n",
      "72: 224x224 lal soil augmented 1.00, sandy soil augmented 0.00, loamy soil augmented 0.00, clay soil_augmented 0.00, 0.3ms\n",
      "73: 224x224 lal soil augmented 1.00, sandy soil augmented 0.00, loamy soil augmented 0.00, clay soil_augmented 0.00, 0.3ms\n",
      "74: 224x224 lal soil augmented 1.00, sandy soil augmented 0.00, clay soil_augmented 0.00, loamy soil augmented 0.00, 0.3ms\n",
      "75: 224x224 lal soil augmented 1.00, sandy soil augmented 0.00, loamy soil augmented 0.00, clay soil_augmented 0.00, 0.3ms\n",
      "76: 224x224 lal soil augmented 1.00, sandy soil augmented 0.00, loamy soil augmented 0.00, clay soil_augmented 0.00, 0.3ms\n",
      "77: 224x224 lal soil augmented 1.00, sandy soil augmented 0.00, loamy soil augmented 0.00, clay soil_augmented 0.00, 0.3ms\n",
      "78: 224x224 lal soil augmented 1.00, sandy soil augmented 0.00, loamy soil augmented 0.00, clay soil_augmented 0.00, 0.3ms\n",
      "79: 224x224 lal soil augmented 0.57, loamy soil augmented 0.40, sandy soil augmented 0.02, clay soil_augmented 0.00, 0.3ms\n",
      "80: 224x224 lal soil augmented 1.00, sandy soil augmented 0.00, clay soil_augmented 0.00, loamy soil augmented 0.00, 0.3ms\n",
      "81: 224x224 lal soil augmented 1.00, sandy soil augmented 0.00, loamy soil augmented 0.00, clay soil_augmented 0.00, 0.3ms\n",
      "82: 224x224 lal soil augmented 1.00, sandy soil augmented 0.00, clay soil_augmented 0.00, loamy soil augmented 0.00, 0.3ms\n",
      "83: 224x224 lal soil augmented 1.00, loamy soil augmented 0.00, sandy soil augmented 0.00, clay soil_augmented 0.00, 0.3ms\n",
      "84: 224x224 lal soil augmented 1.00, sandy soil augmented 0.00, loamy soil augmented 0.00, clay soil_augmented 0.00, 0.3ms\n",
      "85: 224x224 lal soil augmented 1.00, sandy soil augmented 0.00, loamy soil augmented 0.00, clay soil_augmented 0.00, 0.3ms\n",
      "86: 224x224 lal soil augmented 1.00, loamy soil augmented 0.00, sandy soil augmented 0.00, clay soil_augmented 0.00, 0.3ms\n",
      "87: 224x224 lal soil augmented 1.00, sandy soil augmented 0.00, loamy soil augmented 0.00, clay soil_augmented 0.00, 0.3ms\n",
      "88: 224x224 lal soil augmented 1.00, loamy soil augmented 0.00, sandy soil augmented 0.00, clay soil_augmented 0.00, 0.3ms\n",
      "89: 224x224 lal soil augmented 1.00, sandy soil augmented 0.00, loamy soil augmented 0.00, clay soil_augmented 0.00, 0.3ms\n",
      "90: 224x224 lal soil augmented 1.00, sandy soil augmented 0.00, loamy soil augmented 0.00, clay soil_augmented 0.00, 0.3ms\n",
      "91: 224x224 lal soil augmented 1.00, sandy soil augmented 0.00, clay soil_augmented 0.00, loamy soil augmented 0.00, 0.3ms\n",
      "92: 224x224 lal soil augmented 1.00, sandy soil augmented 0.00, loamy soil augmented 0.00, clay soil_augmented 0.00, 0.3ms\n",
      "93: 224x224 lal soil augmented 1.00, sandy soil augmented 0.00, loamy soil augmented 0.00, clay soil_augmented 0.00, 0.3ms\n",
      "94: 224x224 lal soil augmented 1.00, sandy soil augmented 0.00, loamy soil augmented 0.00, clay soil_augmented 0.00, 0.3ms\n",
      "95: 224x224 lal soil augmented 1.00, sandy soil augmented 0.00, loamy soil augmented 0.00, clay soil_augmented 0.00, 0.3ms\n",
      "96: 224x224 lal soil augmented 1.00, sandy soil augmented 0.00, loamy soil augmented 0.00, clay soil_augmented 0.00, 0.3ms\n",
      "97: 224x224 lal soil augmented 1.00, sandy soil augmented 0.00, loamy soil augmented 0.00, clay soil_augmented 0.00, 0.3ms\n",
      "98: 224x224 lal soil augmented 1.00, sandy soil augmented 0.00, clay soil_augmented 0.00, loamy soil augmented 0.00, 0.3ms\n",
      "99: 224x224 lal soil augmented 1.00, sandy soil augmented 0.00, loamy soil augmented 0.00, clay soil_augmented 0.00, 0.3ms\n",
      "100: 224x224 lal soil augmented 1.00, sandy soil augmented 0.00, loamy soil augmented 0.00, clay soil_augmented 0.00, 0.3ms\n",
      "101: 224x224 lal soil augmented 1.00, sandy soil augmented 0.00, clay soil_augmented 0.00, loamy soil augmented 0.00, 0.3ms\n",
      "102: 224x224 lal soil augmented 1.00, sandy soil augmented 0.00, loamy soil augmented 0.00, clay soil_augmented 0.00, 0.3ms\n",
      "103: 224x224 lal soil augmented 1.00, sandy soil augmented 0.00, loamy soil augmented 0.00, clay soil_augmented 0.00, 0.3ms\n",
      "104: 224x224 lal soil augmented 1.00, sandy soil augmented 0.00, clay soil_augmented 0.00, loamy soil augmented 0.00, 0.3ms\n",
      "105: 224x224 lal soil augmented 1.00, sandy soil augmented 0.00, loamy soil augmented 0.00, clay soil_augmented 0.00, 0.3ms\n",
      "106: 224x224 lal soil augmented 1.00, sandy soil augmented 0.00, clay soil_augmented 0.00, loamy soil augmented 0.00, 0.3ms\n",
      "107: 224x224 lal soil augmented 1.00, sandy soil augmented 0.00, clay soil_augmented 0.00, loamy soil augmented 0.00, 0.3ms\n",
      "108: 224x224 lal soil augmented 1.00, sandy soil augmented 0.00, loamy soil augmented 0.00, clay soil_augmented 0.00, 0.3ms\n",
      "109: 224x224 lal soil augmented 1.00, sandy soil augmented 0.00, clay soil_augmented 0.00, loamy soil augmented 0.00, 0.3ms\n",
      "110: 224x224 lal soil augmented 1.00, sandy soil augmented 0.00, loamy soil augmented 0.00, clay soil_augmented 0.00, 0.3ms\n",
      "111: 224x224 lal soil augmented 1.00, sandy soil augmented 0.00, loamy soil augmented 0.00, clay soil_augmented 0.00, 0.3ms\n",
      "112: 224x224 lal soil augmented 1.00, sandy soil augmented 0.00, clay soil_augmented 0.00, loamy soil augmented 0.00, 0.3ms\n",
      "113: 224x224 lal soil augmented 1.00, sandy soil augmented 0.00, loamy soil augmented 0.00, clay soil_augmented 0.00, 0.3ms\n",
      "114: 224x224 lal soil augmented 1.00, sandy soil augmented 0.00, loamy soil augmented 0.00, clay soil_augmented 0.00, 0.3ms\n",
      "115: 224x224 lal soil augmented 1.00, loamy soil augmented 0.00, sandy soil augmented 0.00, clay soil_augmented 0.00, 0.3ms\n",
      "116: 224x224 lal soil augmented 1.00, sandy soil augmented 0.00, loamy soil augmented 0.00, clay soil_augmented 0.00, 0.3ms\n",
      "117: 224x224 lal soil augmented 1.00, sandy soil augmented 0.00, loamy soil augmented 0.00, clay soil_augmented 0.00, 0.3ms\n",
      "118: 224x224 lal soil augmented 1.00, sandy soil augmented 0.00, clay soil_augmented 0.00, loamy soil augmented 0.00, 0.3ms\n",
      "119: 224x224 lal soil augmented 1.00, sandy soil augmented 0.00, clay soil_augmented 0.00, loamy soil augmented 0.00, 0.3ms\n",
      "120: 224x224 lal soil augmented 1.00, sandy soil augmented 0.00, loamy soil augmented 0.00, clay soil_augmented 0.00, 0.3ms\n",
      "121: 224x224 lal soil augmented 1.00, sandy soil augmented 0.00, clay soil_augmented 0.00, loamy soil augmented 0.00, 0.3ms\n",
      "122: 224x224 lal soil augmented 1.00, sandy soil augmented 0.00, loamy soil augmented 0.00, clay soil_augmented 0.00, 0.3ms\n",
      "123: 224x224 lal soil augmented 1.00, sandy soil augmented 0.00, clay soil_augmented 0.00, loamy soil augmented 0.00, 0.3ms\n",
      "124: 224x224 lal soil augmented 1.00, sandy soil augmented 0.00, loamy soil augmented 0.00, clay soil_augmented 0.00, 0.3ms\n",
      "125: 224x224 lal soil augmented 1.00, sandy soil augmented 0.00, loamy soil augmented 0.00, clay soil_augmented 0.00, 0.3ms\n",
      "126: 224x224 lal soil augmented 1.00, sandy soil augmented 0.00, loamy soil augmented 0.00, clay soil_augmented 0.00, 0.3ms\n",
      "127: 224x224 lal soil augmented 1.00, sandy soil augmented 0.00, clay soil_augmented 0.00, loamy soil augmented 0.00, 0.3ms\n",
      "128: 224x224 lal soil augmented 1.00, sandy soil augmented 0.00, clay soil_augmented 0.00, loamy soil augmented 0.00, 0.3ms\n",
      "129: 224x224 lal soil augmented 1.00, sandy soil augmented 0.00, clay soil_augmented 0.00, loamy soil augmented 0.00, 0.3ms\n",
      "130: 224x224 lal soil augmented 1.00, clay soil_augmented 0.00, sandy soil augmented 0.00, loamy soil augmented 0.00, 0.3ms\n",
      "131: 224x224 lal soil augmented 1.00, sandy soil augmented 0.00, clay soil_augmented 0.00, loamy soil augmented 0.00, 0.3ms\n",
      "132: 224x224 lal soil augmented 1.00, loamy soil augmented 0.00, sandy soil augmented 0.00, clay soil_augmented 0.00, 0.3ms\n",
      "133: 224x224 lal soil augmented 1.00, sandy soil augmented 0.00, clay soil_augmented 0.00, loamy soil augmented 0.00, 0.3ms\n",
      "134: 224x224 lal soil augmented 1.00, sandy soil augmented 0.00, loamy soil augmented 0.00, clay soil_augmented 0.00, 0.3ms\n",
      "135: 224x224 lal soil augmented 1.00, sandy soil augmented 0.00, clay soil_augmented 0.00, loamy soil augmented 0.00, 0.3ms\n",
      "136: 224x224 lal soil augmented 1.00, sandy soil augmented 0.00, loamy soil augmented 0.00, clay soil_augmented 0.00, 0.3ms\n",
      "137: 224x224 lal soil augmented 1.00, sandy soil augmented 0.00, loamy soil augmented 0.00, clay soil_augmented 0.00, 0.3ms\n",
      "138: 224x224 lal soil augmented 1.00, loamy soil augmented 0.00, sandy soil augmented 0.00, clay soil_augmented 0.00, 0.3ms\n",
      "139: 224x224 loamy soil augmented 1.00, sandy soil augmented 0.00, lal soil augmented 0.00, clay soil_augmented 0.00, 0.3ms\n",
      "140: 224x224 loamy soil augmented 1.00, lal soil augmented 0.00, sandy soil augmented 0.00, clay soil_augmented 0.00, 0.3ms\n",
      "141: 224x224 loamy soil augmented 1.00, sandy soil augmented 0.00, lal soil augmented 0.00, clay soil_augmented 0.00, 0.3ms\n",
      "142: 224x224 loamy soil augmented 1.00, sandy soil augmented 0.00, lal soil augmented 0.00, clay soil_augmented 0.00, 0.3ms\n",
      "143: 224x224 loamy soil augmented 1.00, lal soil augmented 0.00, sandy soil augmented 0.00, clay soil_augmented 0.00, 0.3ms\n",
      "144: 224x224 loamy soil augmented 1.00, lal soil augmented 0.00, sandy soil augmented 0.00, clay soil_augmented 0.00, 0.3ms\n",
      "145: 224x224 loamy soil augmented 1.00, sandy soil augmented 0.00, lal soil augmented 0.00, clay soil_augmented 0.00, 0.3ms\n",
      "146: 224x224 loamy soil augmented 1.00, sandy soil augmented 0.00, lal soil augmented 0.00, clay soil_augmented 0.00, 0.3ms\n",
      "147: 224x224 loamy soil augmented 1.00, lal soil augmented 0.00, sandy soil augmented 0.00, clay soil_augmented 0.00, 0.3ms\n",
      "148: 224x224 loamy soil augmented 1.00, sandy soil augmented 0.00, lal soil augmented 0.00, clay soil_augmented 0.00, 0.3ms\n",
      "149: 224x224 loamy soil augmented 1.00, sandy soil augmented 0.00, clay soil_augmented 0.00, lal soil augmented 0.00, 0.3ms\n",
      "150: 224x224 loamy soil augmented 1.00, sandy soil augmented 0.00, lal soil augmented 0.00, clay soil_augmented 0.00, 0.3ms\n",
      "151: 224x224 loamy soil augmented 1.00, sandy soil augmented 0.00, lal soil augmented 0.00, clay soil_augmented 0.00, 0.3ms\n",
      "152: 224x224 loamy soil augmented 1.00, sandy soil augmented 0.00, lal soil augmented 0.00, clay soil_augmented 0.00, 0.3ms\n",
      "153: 224x224 loamy soil augmented 1.00, sandy soil augmented 0.00, lal soil augmented 0.00, clay soil_augmented 0.00, 0.3ms\n",
      "154: 224x224 loamy soil augmented 1.00, sandy soil augmented 0.00, lal soil augmented 0.00, clay soil_augmented 0.00, 0.3ms\n",
      "155: 224x224 loamy soil augmented 1.00, sandy soil augmented 0.00, lal soil augmented 0.00, clay soil_augmented 0.00, 0.3ms\n",
      "156: 224x224 loamy soil augmented 1.00, sandy soil augmented 0.00, lal soil augmented 0.00, clay soil_augmented 0.00, 0.3ms\n",
      "157: 224x224 loamy soil augmented 1.00, sandy soil augmented 0.00, lal soil augmented 0.00, clay soil_augmented 0.00, 0.3ms\n",
      "158: 224x224 loamy soil augmented 1.00, sandy soil augmented 0.00, lal soil augmented 0.00, clay soil_augmented 0.00, 0.3ms\n",
      "159: 224x224 loamy soil augmented 1.00, sandy soil augmented 0.00, lal soil augmented 0.00, clay soil_augmented 0.00, 0.3ms\n",
      "160: 224x224 loamy soil augmented 1.00, sandy soil augmented 0.00, lal soil augmented 0.00, clay soil_augmented 0.00, 0.3ms\n",
      "161: 224x224 loamy soil augmented 1.00, sandy soil augmented 0.00, lal soil augmented 0.00, clay soil_augmented 0.00, 0.3ms\n",
      "162: 224x224 loamy soil augmented 1.00, sandy soil augmented 0.00, lal soil augmented 0.00, clay soil_augmented 0.00, 0.3ms\n",
      "163: 224x224 loamy soil augmented 1.00, sandy soil augmented 0.00, lal soil augmented 0.00, clay soil_augmented 0.00, 0.3ms\n",
      "164: 224x224 loamy soil augmented 1.00, sandy soil augmented 0.00, lal soil augmented 0.00, clay soil_augmented 0.00, 0.3ms\n",
      "165: 224x224 loamy soil augmented 1.00, sandy soil augmented 0.00, lal soil augmented 0.00, clay soil_augmented 0.00, 0.3ms\n",
      "166: 224x224 loamy soil augmented 1.00, sandy soil augmented 0.00, lal soil augmented 0.00, clay soil_augmented 0.00, 0.3ms\n",
      "167: 224x224 loamy soil augmented 1.00, sandy soil augmented 0.00, lal soil augmented 0.00, clay soil_augmented 0.00, 0.3ms\n",
      "168: 224x224 loamy soil augmented 1.00, lal soil augmented 0.00, sandy soil augmented 0.00, clay soil_augmented 0.00, 0.3ms\n",
      "169: 224x224 loamy soil augmented 1.00, lal soil augmented 0.00, sandy soil augmented 0.00, clay soil_augmented 0.00, 0.3ms\n",
      "170: 224x224 loamy soil augmented 1.00, sandy soil augmented 0.00, lal soil augmented 0.00, clay soil_augmented 0.00, 0.3ms\n",
      "171: 224x224 loamy soil augmented 1.00, sandy soil augmented 0.00, lal soil augmented 0.00, clay soil_augmented 0.00, 0.3ms\n",
      "172: 224x224 loamy soil augmented 1.00, sandy soil augmented 0.00, lal soil augmented 0.00, clay soil_augmented 0.00, 0.3ms\n",
      "173: 224x224 loamy soil augmented 1.00, sandy soil augmented 0.00, lal soil augmented 0.00, clay soil_augmented 0.00, 0.3ms\n",
      "174: 224x224 loamy soil augmented 1.00, sandy soil augmented 0.00, lal soil augmented 0.00, clay soil_augmented 0.00, 0.3ms\n",
      "175: 224x224 loamy soil augmented 1.00, sandy soil augmented 0.00, lal soil augmented 0.00, clay soil_augmented 0.00, 0.3ms\n",
      "176: 224x224 loamy soil augmented 1.00, sandy soil augmented 0.00, lal soil augmented 0.00, clay soil_augmented 0.00, 0.3ms\n",
      "177: 224x224 loamy soil augmented 1.00, sandy soil augmented 0.00, lal soil augmented 0.00, clay soil_augmented 0.00, 0.3ms\n",
      "178: 224x224 loamy soil augmented 1.00, sandy soil augmented 0.00, lal soil augmented 0.00, clay soil_augmented 0.00, 0.3ms\n",
      "179: 224x224 loamy soil augmented 1.00, sandy soil augmented 0.00, lal soil augmented 0.00, clay soil_augmented 0.00, 0.3ms\n",
      "180: 224x224 loamy soil augmented 1.00, lal soil augmented 0.00, sandy soil augmented 0.00, clay soil_augmented 0.00, 0.3ms\n",
      "181: 224x224 loamy soil augmented 1.00, sandy soil augmented 0.00, lal soil augmented 0.00, clay soil_augmented 0.00, 0.3ms\n",
      "182: 224x224 loamy soil augmented 1.00, sandy soil augmented 0.00, clay soil_augmented 0.00, lal soil augmented 0.00, 0.3ms\n",
      "183: 224x224 loamy soil augmented 1.00, sandy soil augmented 0.00, lal soil augmented 0.00, clay soil_augmented 0.00, 0.3ms\n",
      "184: 224x224 loamy soil augmented 1.00, sandy soil augmented 0.00, lal soil augmented 0.00, clay soil_augmented 0.00, 0.3ms\n",
      "185: 224x224 loamy soil augmented 1.00, sandy soil augmented 0.00, lal soil augmented 0.00, clay soil_augmented 0.00, 0.3ms\n",
      "186: 224x224 loamy soil augmented 1.00, sandy soil augmented 0.00, lal soil augmented 0.00, clay soil_augmented 0.00, 0.3ms\n",
      "187: 224x224 loamy soil augmented 1.00, sandy soil augmented 0.00, lal soil augmented 0.00, clay soil_augmented 0.00, 0.3ms\n",
      "188: 224x224 loamy soil augmented 1.00, sandy soil augmented 0.00, lal soil augmented 0.00, clay soil_augmented 0.00, 0.3ms\n",
      "189: 224x224 loamy soil augmented 1.00, sandy soil augmented 0.00, lal soil augmented 0.00, clay soil_augmented 0.00, 0.3ms\n",
      "190: 224x224 loamy soil augmented 1.00, sandy soil augmented 0.00, lal soil augmented 0.00, clay soil_augmented 0.00, 0.3ms\n",
      "191: 224x224 loamy soil augmented 1.00, lal soil augmented 0.00, sandy soil augmented 0.00, clay soil_augmented 0.00, 0.3ms\n",
      "192: 224x224 loamy soil augmented 1.00, sandy soil augmented 0.00, lal soil augmented 0.00, clay soil_augmented 0.00, 0.3ms\n",
      "193: 224x224 loamy soil augmented 1.00, sandy soil augmented 0.00, lal soil augmented 0.00, clay soil_augmented 0.00, 0.3ms\n",
      "194: 224x224 loamy soil augmented 1.00, sandy soil augmented 0.00, clay soil_augmented 0.00, lal soil augmented 0.00, 0.3ms\n",
      "195: 224x224 loamy soil augmented 1.00, sandy soil augmented 0.00, lal soil augmented 0.00, clay soil_augmented 0.00, 0.3ms\n",
      "196: 224x224 loamy soil augmented 1.00, sandy soil augmented 0.00, lal soil augmented 0.00, clay soil_augmented 0.00, 0.3ms\n",
      "197: 224x224 loamy soil augmented 1.00, sandy soil augmented 0.00, lal soil augmented 0.00, clay soil_augmented 0.00, 0.3ms\n",
      "198: 224x224 loamy soil augmented 1.00, sandy soil augmented 0.00, lal soil augmented 0.00, clay soil_augmented 0.00, 0.3ms\n",
      "199: 224x224 loamy soil augmented 1.00, sandy soil augmented 0.00, lal soil augmented 0.00, clay soil_augmented 0.00, 0.3ms\n",
      "200: 224x224 loamy soil augmented 1.00, sandy soil augmented 0.00, lal soil augmented 0.00, clay soil_augmented 0.00, 0.3ms\n",
      "201: 224x224 loamy soil augmented 1.00, sandy soil augmented 0.00, lal soil augmented 0.00, clay soil_augmented 0.00, 0.3ms\n",
      "202: 224x224 loamy soil augmented 1.00, sandy soil augmented 0.00, lal soil augmented 0.00, clay soil_augmented 0.00, 0.3ms\n",
      "203: 224x224 loamy soil augmented 1.00, lal soil augmented 0.00, sandy soil augmented 0.00, clay soil_augmented 0.00, 0.3ms\n",
      "204: 224x224 loamy soil augmented 1.00, sandy soil augmented 0.00, lal soil augmented 0.00, clay soil_augmented 0.00, 0.3ms\n",
      "205: 224x224 loamy soil augmented 1.00, sandy soil augmented 0.00, lal soil augmented 0.00, clay soil_augmented 0.00, 0.3ms\n",
      "206: 224x224 loamy soil augmented 1.00, sandy soil augmented 0.00, lal soil augmented 0.00, clay soil_augmented 0.00, 0.3ms\n",
      "207: 224x224 loamy soil augmented 1.00, clay soil_augmented 0.00, sandy soil augmented 0.00, lal soil augmented 0.00, 0.3ms\n",
      "208: 224x224 loamy soil augmented 1.00, lal soil augmented 0.00, sandy soil augmented 0.00, clay soil_augmented 0.00, 0.3ms\n",
      "209: 224x224 loamy soil augmented 1.00, lal soil augmented 0.00, sandy soil augmented 0.00, clay soil_augmented 0.00, 0.3ms\n",
      "210: 224x224 loamy soil augmented 1.00, sandy soil augmented 0.00, lal soil augmented 0.00, clay soil_augmented 0.00, 0.3ms\n",
      "211: 224x224 loamy soil augmented 1.00, sandy soil augmented 0.00, lal soil augmented 0.00, clay soil_augmented 0.00, 0.3ms\n",
      "212: 224x224 loamy soil augmented 1.00, sandy soil augmented 0.00, lal soil augmented 0.00, clay soil_augmented 0.00, 0.3ms\n",
      "213: 224x224 loamy soil augmented 1.00, sandy soil augmented 0.00, lal soil augmented 0.00, clay soil_augmented 0.00, 0.3ms\n",
      "214: 224x224 loamy soil augmented 1.00, sandy soil augmented 0.00, lal soil augmented 0.00, clay soil_augmented 0.00, 0.3ms\n",
      "215: 224x224 sandy soil augmented 1.00, clay soil_augmented 0.00, loamy soil augmented 0.00, lal soil augmented 0.00, 0.3ms\n",
      "216: 224x224 sandy soil augmented 1.00, lal soil augmented 0.00, loamy soil augmented 0.00, clay soil_augmented 0.00, 0.3ms\n",
      "217: 224x224 sandy soil augmented 1.00, clay soil_augmented 0.00, lal soil augmented 0.00, loamy soil augmented 0.00, 0.3ms\n",
      "218: 224x224 sandy soil augmented 1.00, clay soil_augmented 0.00, lal soil augmented 0.00, loamy soil augmented 0.00, 0.3ms\n",
      "219: 224x224 sandy soil augmented 1.00, clay soil_augmented 0.00, lal soil augmented 0.00, loamy soil augmented 0.00, 0.3ms\n",
      "220: 224x224 sandy soil augmented 1.00, loamy soil augmented 0.00, lal soil augmented 0.00, clay soil_augmented 0.00, 0.3ms\n",
      "221: 224x224 sandy soil augmented 1.00, loamy soil augmented 0.00, clay soil_augmented 0.00, lal soil augmented 0.00, 0.3ms\n",
      "222: 224x224 sandy soil augmented 1.00, lal soil augmented 0.00, loamy soil augmented 0.00, clay soil_augmented 0.00, 0.3ms\n",
      "223: 224x224 sandy soil augmented 1.00, lal soil augmented 0.00, loamy soil augmented 0.00, clay soil_augmented 0.00, 0.3ms\n",
      "224: 224x224 sandy soil augmented 1.00, loamy soil augmented 0.00, lal soil augmented 0.00, clay soil_augmented 0.00, 0.3ms\n",
      "225: 224x224 sandy soil augmented 1.00, clay soil_augmented 0.00, loamy soil augmented 0.00, lal soil augmented 0.00, 0.3ms\n",
      "226: 224x224 sandy soil augmented 1.00, clay soil_augmented 0.00, loamy soil augmented 0.00, lal soil augmented 0.00, 0.3ms\n",
      "227: 224x224 sandy soil augmented 1.00, loamy soil augmented 0.00, clay soil_augmented 0.00, lal soil augmented 0.00, 0.3ms\n",
      "228: 224x224 sandy soil augmented 1.00, lal soil augmented 0.00, loamy soil augmented 0.00, clay soil_augmented 0.00, 0.3ms\n",
      "229: 224x224 sandy soil augmented 1.00, lal soil augmented 0.00, loamy soil augmented 0.00, clay soil_augmented 0.00, 0.3ms\n",
      "230: 224x224 sandy soil augmented 1.00, loamy soil augmented 0.00, lal soil augmented 0.00, clay soil_augmented 0.00, 0.3ms\n",
      "231: 224x224 sandy soil augmented 1.00, clay soil_augmented 0.00, lal soil augmented 0.00, loamy soil augmented 0.00, 0.3ms\n",
      "232: 224x224 sandy soil augmented 1.00, lal soil augmented 0.00, clay soil_augmented 0.00, loamy soil augmented 0.00, 0.3ms\n",
      "233: 224x224 sandy soil augmented 1.00, lal soil augmented 0.00, clay soil_augmented 0.00, loamy soil augmented 0.00, 0.3ms\n",
      "234: 224x224 sandy soil augmented 1.00, clay soil_augmented 0.00, loamy soil augmented 0.00, lal soil augmented 0.00, 0.3ms\n",
      "235: 224x224 sandy soil augmented 1.00, clay soil_augmented 0.00, loamy soil augmented 0.00, lal soil augmented 0.00, 0.3ms\n",
      "236: 224x224 sandy soil augmented 1.00, clay soil_augmented 0.00, lal soil augmented 0.00, loamy soil augmented 0.00, 0.3ms\n",
      "237: 224x224 sandy soil augmented 1.00, loamy soil augmented 0.00, clay soil_augmented 0.00, lal soil augmented 0.00, 0.3ms\n",
      "238: 224x224 sandy soil augmented 1.00, lal soil augmented 0.00, loamy soil augmented 0.00, clay soil_augmented 0.00, 0.3ms\n",
      "239: 224x224 sandy soil augmented 1.00, clay soil_augmented 0.00, lal soil augmented 0.00, loamy soil augmented 0.00, 0.3ms\n",
      "240: 224x224 sandy soil augmented 1.00, loamy soil augmented 0.00, lal soil augmented 0.00, clay soil_augmented 0.00, 0.3ms\n",
      "241: 224x224 sandy soil augmented 1.00, lal soil augmented 0.00, clay soil_augmented 0.00, loamy soil augmented 0.00, 0.3ms\n",
      "242: 224x224 sandy soil augmented 1.00, lal soil augmented 0.00, clay soil_augmented 0.00, loamy soil augmented 0.00, 0.3ms\n",
      "243: 224x224 sandy soil augmented 1.00, loamy soil augmented 0.00, clay soil_augmented 0.00, lal soil augmented 0.00, 0.3ms\n",
      "244: 224x224 sandy soil augmented 1.00, loamy soil augmented 0.00, clay soil_augmented 0.00, lal soil augmented 0.00, 0.3ms\n",
      "245: 224x224 sandy soil augmented 1.00, clay soil_augmented 0.00, lal soil augmented 0.00, loamy soil augmented 0.00, 0.3ms\n",
      "246: 224x224 sandy soil augmented 1.00, loamy soil augmented 0.00, lal soil augmented 0.00, clay soil_augmented 0.00, 0.3ms\n",
      "247: 224x224 sandy soil augmented 1.00, lal soil augmented 0.00, loamy soil augmented 0.00, clay soil_augmented 0.00, 0.3ms\n",
      "248: 224x224 sandy soil augmented 1.00, clay soil_augmented 0.00, lal soil augmented 0.00, loamy soil augmented 0.00, 0.3ms\n",
      "249: 224x224 sandy soil augmented 1.00, lal soil augmented 0.00, loamy soil augmented 0.00, clay soil_augmented 0.00, 0.3ms\n",
      "250: 224x224 sandy soil augmented 1.00, lal soil augmented 0.00, loamy soil augmented 0.00, clay soil_augmented 0.00, 0.3ms\n",
      "251: 224x224 sandy soil augmented 1.00, clay soil_augmented 0.00, loamy soil augmented 0.00, lal soil augmented 0.00, 0.3ms\n",
      "252: 224x224 sandy soil augmented 1.00, loamy soil augmented 0.00, clay soil_augmented 0.00, lal soil augmented 0.00, 0.3ms\n",
      "253: 224x224 sandy soil augmented 1.00, lal soil augmented 0.00, loamy soil augmented 0.00, clay soil_augmented 0.00, 0.3ms\n",
      "254: 224x224 sandy soil augmented 1.00, loamy soil augmented 0.00, clay soil_augmented 0.00, lal soil augmented 0.00, 0.3ms\n",
      "255: 224x224 sandy soil augmented 1.00, lal soil augmented 0.00, loamy soil augmented 0.00, clay soil_augmented 0.00, 0.3ms\n",
      "256: 224x224 sandy soil augmented 1.00, loamy soil augmented 0.00, lal soil augmented 0.00, clay soil_augmented 0.00, 0.3ms\n",
      "257: 224x224 sandy soil augmented 1.00, lal soil augmented 0.00, loamy soil augmented 0.00, clay soil_augmented 0.00, 0.3ms\n",
      "258: 224x224 sandy soil augmented 1.00, loamy soil augmented 0.00, lal soil augmented 0.00, clay soil_augmented 0.00, 0.3ms\n",
      "259: 224x224 sandy soil augmented 1.00, loamy soil augmented 0.00, lal soil augmented 0.00, clay soil_augmented 0.00, 0.3ms\n",
      "260: 224x224 sandy soil augmented 1.00, lal soil augmented 0.00, loamy soil augmented 0.00, clay soil_augmented 0.00, 0.3ms\n",
      "261: 224x224 sandy soil augmented 1.00, clay soil_augmented 0.00, lal soil augmented 0.00, loamy soil augmented 0.00, 0.3ms\n",
      "262: 224x224 sandy soil augmented 1.00, clay soil_augmented 0.00, lal soil augmented 0.00, loamy soil augmented 0.00, 0.3ms\n",
      "263: 224x224 sandy soil augmented 1.00, clay soil_augmented 0.00, loamy soil augmented 0.00, lal soil augmented 0.00, 0.3ms\n",
      "264: 224x224 sandy soil augmented 1.00, loamy soil augmented 0.00, clay soil_augmented 0.00, lal soil augmented 0.00, 0.3ms\n",
      "265: 224x224 sandy soil augmented 1.00, clay soil_augmented 0.00, lal soil augmented 0.00, loamy soil augmented 0.00, 0.3ms\n",
      "266: 224x224 sandy soil augmented 1.00, clay soil_augmented 0.00, lal soil augmented 0.00, loamy soil augmented 0.00, 0.3ms\n",
      "267: 224x224 sandy soil augmented 1.00, loamy soil augmented 0.00, lal soil augmented 0.00, clay soil_augmented 0.00, 0.3ms\n",
      "268: 224x224 sandy soil augmented 1.00, clay soil_augmented 0.00, lal soil augmented 0.00, loamy soil augmented 0.00, 0.3ms\n",
      "269: 224x224 sandy soil augmented 1.00, loamy soil augmented 0.00, lal soil augmented 0.00, clay soil_augmented 0.00, 0.3ms\n",
      "270: 224x224 sandy soil augmented 1.00, clay soil_augmented 0.00, loamy soil augmented 0.00, lal soil augmented 0.00, 0.3ms\n",
      "271: 224x224 sandy soil augmented 1.00, clay soil_augmented 0.00, loamy soil augmented 0.00, lal soil augmented 0.00, 0.3ms\n",
      "272: 224x224 sandy soil augmented 1.00, clay soil_augmented 0.00, lal soil augmented 0.00, loamy soil augmented 0.00, 0.3ms\n",
      "273: 224x224 sandy soil augmented 1.00, loamy soil augmented 0.00, lal soil augmented 0.00, clay soil_augmented 0.00, 0.3ms\n",
      "274: 224x224 sandy soil augmented 1.00, loamy soil augmented 0.00, clay soil_augmented 0.00, lal soil augmented 0.00, 0.3ms\n",
      "275: 224x224 sandy soil augmented 1.00, loamy soil augmented 0.00, clay soil_augmented 0.00, lal soil augmented 0.00, 0.3ms\n",
      "276: 224x224 sandy soil augmented 1.00, clay soil_augmented 0.00, loamy soil augmented 0.00, lal soil augmented 0.00, 0.3ms\n",
      "277: 224x224 sandy soil augmented 1.00, lal soil augmented 0.00, clay soil_augmented 0.00, loamy soil augmented 0.00, 0.3ms\n",
      "278: 224x224 sandy soil augmented 1.00, clay soil_augmented 0.00, lal soil augmented 0.00, loamy soil augmented 0.00, 0.3ms\n",
      "279: 224x224 sandy soil augmented 1.00, clay soil_augmented 0.00, loamy soil augmented 0.00, lal soil augmented 0.00, 0.3ms\n",
      "280: 224x224 sandy soil augmented 1.00, loamy soil augmented 0.00, lal soil augmented 0.00, clay soil_augmented 0.00, 0.3ms\n",
      "281: 224x224 sandy soil augmented 1.00, loamy soil augmented 0.00, lal soil augmented 0.00, clay soil_augmented 0.00, 0.3ms\n",
      "282: 224x224 sandy soil augmented 1.00, loamy soil augmented 0.00, clay soil_augmented 0.00, lal soil augmented 0.00, 0.3ms\n",
      "283: 224x224 sandy soil augmented 1.00, loamy soil augmented 0.00, lal soil augmented 0.00, clay soil_augmented 0.00, 0.3ms\n",
      "284: 224x224 sandy soil augmented 1.00, loamy soil augmented 0.00, lal soil augmented 0.00, clay soil_augmented 0.00, 0.3ms\n",
      "285: 224x224 sandy soil augmented 1.00, loamy soil augmented 0.00, lal soil augmented 0.00, clay soil_augmented 0.00, 0.3ms\n",
      "Speed: 4.3ms preprocess, 0.3ms inference, 0.0ms postprocess per image at shape (1, 3, 224, 224)\n",
      "Precision: 1.0000\n",
      "Recall: 1.0000\n",
      "F1 Score: 1.0000\n"
     ]
    },
    {
     "data": {
      "image/png": "[encoded data removed]",
      "text/plain": [
       "<Figure size 1000x800 with 2 Axes>"
      ]
     },
     "metadata": {},
     "output_type": "display_data"
    },
    {
     "name": "stdout",
     "output_type": "stream",
     "text": [
      "Confusion Matrix saved successfully: confusion_matrix.png\n"
     ]
    }
   ],
   "source": [
    "import os\n",
    "import numpy as np\n",
    "from sklearn.metrics import confusion_matrix, ConfusionMatrixDisplay, precision_recall_fscore_support\n",
    "import matplotlib.pyplot as plt\n",
    "\n",
    "# Path to the test dataset\n",
    "test_path = \"/kaggle/input/soil-classification2/test\"\n",
    "\n",
    "# Original class names used for mapping\n",
    "original_class_names = [\n",
    "    \"clay soil_augmented\",\n",
    "    \"lal soil augmented\",\n",
    "    \"loamy soil augmented\",\n",
    "    \"sandy soil augmented\"\n",
    "]\n",
    "\n",
    "# Modify display class names for confusion matrix\n",
    "display_class_names = [\n",
    "    \"clay soil\",\n",
    "    \"red soil\",  # Changed from \"lal soil augmented\"\n",
    "    \"loamy soil\",\n",
    "    \"sandy soil\"\n",
    "]\n",
    "\n",
    "# Mapping class names to indices\n",
    "class_to_idx = {name: idx for idx, name in enumerate(original_class_names)}\n",
    "\n",
    "# Prepare file paths and true labels\n",
    "image_paths = []\n",
    "true_labels = []\n",
    "\n",
    "for class_name in original_class_names:\n",
    "    class_folder = os.path.join(test_path, class_name)\n",
    "    if os.path.exists(class_folder):\n",
    "        for img_file in os.listdir(class_folder):\n",
    "            if img_file.lower().endswith((\".jpg\", \".jpeg\", \".png\")):\n",
    "                image_paths.append(os.path.join(class_folder, img_file))\n",
    "                true_labels.append(class_to_idx[class_name])\n",
    "\n",
    "# Get predictions\n",
    "results = model.predict(source=image_paths, save=False)\n",
    "\n",
    "# Extract predicted labels using the 'top1' attribute\n",
    "predicted_labels = [result.probs.top1 for result in results]\n",
    "\n",
    "# Generate the confusion matrix\n",
    "cm = confusion_matrix(true_labels, predicted_labels)\n",
    "\n",
    "# Calculate precision, recall, and F1-score\n",
    "precision, recall, f1, _ = precision_recall_fscore_support(true_labels, predicted_labels, average='weighted')\n",
    "\n",
    "# Print the calculated metrics\n",
    "print(f\"Precision: {precision:.4f}\")\n",
    "print(f\"Recall: {recall:.4f}\")\n",
    "print(f\"F1 Score: {f1:.4f}\")\n",
    "\n",
    "# Save path for confusion matrix\n",
    "confusion_matrix_path = \"confusion_matrix.png\"\n",
    "\n",
    "# Display the confusion matrix with larger size\n",
    "plt.figure(figsize=(10, 8))  # Adjust the width and height as needed\n",
    "disp = ConfusionMatrixDisplay(confusion_matrix=cm, display_labels=display_class_names)\n",
    "disp.plot(cmap=plt.cm.Blues, ax=plt.gca(), colorbar=True)\n",
    "plt.title(\"Confusion Matrix\")\n",
    "\n",
    "# Save confusion matrix image\n",
    "plt.savefig(confusion_matrix_path, dpi=300, bbox_inches='tight')\n",
    "plt.show()\n",
    "\n",
    "print(f\"Confusion Matrix saved successfully: {confusion_matrix_path}\")\n"
   ]
  },
  {
   "cell_type": "code",
   "execution_count": 8,
   "id": "73b150ef",
   "metadata": {
    "execution": {
     "iopub.execute_input": "2025-01-30T09:33:00.676353Z",
     "iopub.status.busy": "2025-01-30T09:33:00.676004Z",
     "iopub.status.idle": "2025-01-30T09:33:00.777416Z",
     "shell.execute_reply": "2025-01-30T09:33:00.776204Z"
    },
    "papermill": {
     "duration": 0.515592,
     "end_time": "2025-01-30T09:33:00.779136",
     "exception": false,
     "start_time": "2025-01-30T09:33:00.263544",
     "status": "completed"
    },
    "tags": []
   },
   "outputs": [
    {
     "name": "stdout",
     "output_type": "stream",
     "text": [
      "\n",
      "image 1/1 /kaggle/input/soil-classification2/train/lal soil augmented/20250118_115555_jpg.rf.14fe6db20ba581cc1d6ea91e96b6d22a.jpg: 224x224 lal soil augmented 1.00, sandy soil augmented 0.00, clay soil_augmented 0.00, loamy soil augmented 0.00, 3.5ms\n",
      "Speed: 5.2ms preprocess, 3.5ms inference, 0.1ms postprocess per image at shape (1, 3, 224, 224)\n",
      "Predicted Class: red soil\n"
     ]
    }
   ],
   "source": [
    "import torch\n",
    "from PIL import Image\n",
    "from ultralytics import YOLO  \n",
    "\n",
    "# Load the trained model\n",
    "model_path = \"/kaggle/working/runs/classify/train/weights/best.pt\"\n",
    "model = YOLO(model_path)\n",
    "\n",
    "# Path to the test image (UPDATE THIS)\n",
    "image_path = \"/kaggle/input/soil-classification2/train/lal soil augmented/20250118_115555_jpg.rf.14fe6db20ba581cc1d6ea91e96b6d22a.jpg\"\n",
    "\n",
    "# Predict the class of the image\n",
    "results = model.predict(source=image_path, save=False)\n",
    "\n",
    "# Get the predicted class index\n",
    "predicted_class_idx = results[0].probs.top1\n",
    "\n",
    "# Define class names (MAKE SURE THEY MATCH YOUR TRAINING LABELS)\n",
    "class_names = [\n",
    "    \"clay soil\",\n",
    "    \"red soil\",  # Changed from \"lal soil\"\n",
    "    \"loamy soil\",\n",
    "    \"sandy soil\"\n",
    "]\n",
    "\n",
    "# Get the predicted class name\n",
    "predicted_class = class_names[predicted_class_idx]\n",
    "\n",
    "# Print the result\n",
    "print(f\"Predicted Class: {predicted_class}\")\n"
   ]
  },
  {
   "cell_type": "code",
   "execution_count": 9,
   "id": "ba0f4e5a",
   "metadata": {
    "execution": {
     "iopub.execute_input": "2025-01-30T09:33:01.668459Z",
     "iopub.status.busy": "2025-01-30T09:33:01.668122Z",
     "iopub.status.idle": "2025-01-30T09:33:18.025464Z",
     "shell.execute_reply": "2025-01-30T09:33:18.024479Z"
    },
    "papermill": {
     "duration": 16.771537,
     "end_time": "2025-01-30T09:33:18.027197",
     "exception": false,
     "start_time": "2025-01-30T09:33:01.255660",
     "status": "completed"
    },
    "tags": []
   },
   "outputs": [
    {
     "name": "stdout",
     "output_type": "stream",
     "text": [
      "Ultralytics 8.3.69 🚀 Python-3.10.12 torch-2.5.1+cu121 CPU (Intel Xeon 2.00GHz)\n",
      "YOLOv8n-cls summary (fused): 73 layers, 1,440,004 parameters, 0 gradients, 3.3 GFLOPs\n",
      "\n",
      "\u001b[34m\u001b[1mPyTorch:\u001b[0m starting from '/kaggle/working/runs/classify/train/weights/best.pt' with input shape (1, 3, 224, 224) BCHW and output shape(s) (1, 4) (2.8 MB)\n",
      "\u001b[31m\u001b[1mrequirements:\u001b[0m Ultralytics requirements ['onnxslim', 'onnxruntime-gpu'] not found, attempting AutoUpdate...\n",
      "Collecting onnxslim\n",
      "  Downloading onnxslim-0.1.48-py3-none-any.whl.metadata (4.6 kB)\n",
      "Collecting onnxruntime-gpu\n",
      "  Downloading onnxruntime_gpu-1.20.1-cp310-cp310-manylinux_2_27_x86_64.manylinux_2_28_x86_64.whl.metadata (4.5 kB)\n",
      "Requirement already satisfied: onnx in /usr/local/lib/python3.10/dist-packages (from onnxslim) (1.17.0)\n",
      "Requirement already satisfied: sympy in /usr/local/lib/python3.10/dist-packages (from onnxslim) (1.13.1)\n",
      "Requirement already satisfied: packaging in /usr/local/lib/python3.10/dist-packages (from onnxslim) (24.2)\n",
      "Collecting coloredlogs (from onnxruntime-gpu)\n",
      "  Downloading coloredlogs-15.0.1-py2.py3-none-any.whl.metadata (12 kB)\n",
      "Requirement already satisfied: flatbuffers in /usr/local/lib/python3.10/dist-packages (from onnxruntime-gpu) (24.3.25)\n",
      "Requirement already satisfied: numpy>=1.21.6 in /usr/local/lib/python3.10/dist-packages (from onnxruntime-gpu) (1.26.4)\n",
      "Requirement already satisfied: protobuf in /usr/local/lib/python3.10/dist-packages (from onnxruntime-gpu) (3.20.3)\n",
      "Requirement already satisfied: mkl_fft in /usr/local/lib/python3.10/dist-packages (from numpy>=1.21.6->onnxruntime-gpu) (1.3.8)\n",
      "Requirement already satisfied: mkl_random in /usr/local/lib/python3.10/dist-packages (from numpy>=1.21.6->onnxruntime-gpu) (1.2.4)\n",
      "Requirement already satisfied: mkl_umath in /usr/local/lib/python3.10/dist-packages (from numpy>=1.21.6->onnxruntime-gpu) (0.1.1)\n",
      "Requirement already satisfied: mkl in /usr/local/lib/python3.10/dist-packages (from numpy>=1.21.6->onnxruntime-gpu) (2025.0.1)\n",
      "Requirement already satisfied: tbb4py in /usr/local/lib/python3.10/dist-packages (from numpy>=1.21.6->onnxruntime-gpu) (2022.0.0)\n",
      "Requirement already satisfied: mkl-service in /usr/local/lib/python3.10/dist-packages (from numpy>=1.21.6->onnxruntime-gpu) (2.4.1)\n",
      "Collecting humanfriendly>=9.1 (from coloredlogs->onnxruntime-gpu)\n",
      "  Downloading humanfriendly-10.0-py2.py3-none-any.whl.metadata (9.2 kB)\n",
      "Requirement already satisfied: mpmath<1.4,>=1.1.0 in /usr/local/lib/python3.10/dist-packages (from sympy->onnxslim) (1.3.0)\n",
      "Requirement already satisfied: intel-openmp>=2024 in /usr/local/lib/python3.10/dist-packages (from mkl->numpy>=1.21.6->onnxruntime-gpu) (2024.2.0)\n",
      "Requirement already satisfied: tbb==2022.* in /usr/local/lib/python3.10/dist-packages (from mkl->numpy>=1.21.6->onnxruntime-gpu) (2022.0.0)\n",
      "Requirement already satisfied: tcmlib==1.* in /usr/local/lib/python3.10/dist-packages (from tbb==2022.*->mkl->numpy>=1.21.6->onnxruntime-gpu) (1.2.0)\n",
      "Requirement already satisfied: intel-cmplr-lib-rt in /usr/local/lib/python3.10/dist-packages (from mkl_umath->numpy>=1.21.6->onnxruntime-gpu) (2024.2.0)\n",
      "Requirement already satisfied: intel-cmplr-lib-ur==2024.2.0 in /usr/local/lib/python3.10/dist-packages (from intel-openmp>=2024->mkl->numpy>=1.21.6->onnxruntime-gpu) (2024.2.0)\n",
      "Downloading onnxslim-0.1.48-py3-none-any.whl (142 kB)\n",
      "   ━━━━━━━━━━━━━━━━━━━━━━━━━━━━━━━━━━━━━━━━ 142.9/142.9 kB 9.2 MB/s eta 0:00:00\n",
      "Downloading onnxruntime_gpu-1.20.1-cp310-cp310-manylinux_2_27_x86_64.manylinux_2_28_x86_64.whl (291.5 MB)\n",
      "   ━━━━━━━━━━━━━━━━━━━━━━━━━━━━━━━━━━━━━━━━ 291.5/291.5 MB 258.7 MB/s eta 0:00:00\n",
      "Downloading coloredlogs-15.0.1-py2.py3-none-any.whl (46 kB)\n",
      "   ━━━━━━━━━━━━━━━━━━━━━━━━━━━━━━━━━━━━━━━━ 46.0/46.0 kB 206.4 MB/s eta 0:00:00\n",
      "Downloading humanfriendly-10.0-py2.py3-none-any.whl (86 kB)\n",
      "   ━━━━━━━━━━━━━━━━━━━━━━━━━━━━━━━━━━━━━━━━ 86.8/86.8 kB 251.1 MB/s eta 0:00:00\n",
      "Installing collected packages: humanfriendly, coloredlogs, onnxslim, onnxruntime-gpu\n",
      "Successfully installed coloredlogs-15.0.1 humanfriendly-10.0 onnxruntime-gpu-1.20.1 onnxslim-0.1.48\n",
      "\n",
      "\u001b[31m\u001b[1mrequirements:\u001b[0m AutoUpdate success ✅ 13.6s, installed 2 packages: ['onnxslim', 'onnxruntime-gpu']\n",
      "\u001b[31m\u001b[1mrequirements:\u001b[0m ⚠️ \u001b[1mRestart runtime or rerun command for updates to take effect\u001b[0m\n",
      "\n",
      "\n",
      "\u001b[34m\u001b[1mONNX:\u001b[0m starting export with onnx 1.17.0 opset 19...\n",
      "\u001b[34m\u001b[1mONNX:\u001b[0m slimming with onnxslim 0.1.48...\n",
      "\u001b[34m\u001b[1mONNX:\u001b[0m export success ✅ 14.8s, saved as '/kaggle/working/runs/classify/train/weights/best.onnx' (5.5 MB)\n",
      "\n",
      "Export complete (16.3s)\n",
      "Results saved to \u001b[1m/kaggle/working/runs/classify/train/weights\u001b[0m\n",
      "Predict:         yolo predict task=classify model=/kaggle/working/runs/classify/train/weights/best.onnx imgsz=224  \n",
      "Validate:        yolo val task=classify model=/kaggle/working/runs/classify/train/weights/best.onnx imgsz=224 data=/kaggle/input/soil-classification2  \n",
      "Visualize:       https://netron.app\n"
     ]
    },
    {
     "data": {
      "text/plain": [
       "'/kaggle/working/runs/classify/train/weights/best.onnx'"
      ]
     },
     "execution_count": 9,
     "metadata": {},
     "output_type": "execute_result"
    }
   ],
   "source": [
    "from ultralytics import YOLO\n",
    "\n",
    "# Load the trained model\n",
    "model = YOLO(\"/kaggle/working/runs/classify/train/weights/best.pt\")  # Adjust the path to your best model\n",
    "\n",
    "# Export the model to ONNX format\n",
    "model.export(format=\"onnx\", dynamic=True)  # Saves best.onnx in the same directory\n"
   ]
  },
  {
   "cell_type": "code",
   "execution_count": 10,
   "id": "6aa46859",
   "metadata": {
    "execution": {
     "iopub.execute_input": "2025-01-30T09:33:18.855833Z",
     "iopub.status.busy": "2025-01-30T09:33:18.855441Z",
     "iopub.status.idle": "2025-01-30T09:33:27.755386Z",
     "shell.execute_reply": "2025-01-30T09:33:27.754052Z"
    },
    "papermill": {
     "duration": 9.316737,
     "end_time": "2025-01-30T09:33:27.757245",
     "exception": false,
     "start_time": "2025-01-30T09:33:18.440508",
     "status": "completed"
    },
    "tags": []
   },
   "outputs": [
    {
     "name": "stdout",
     "output_type": "stream",
     "text": [
      "Requirement already satisfied: onnx in /usr/local/lib/python3.10/dist-packages (1.17.0)\r\n",
      "Collecting onnx-tf\r\n",
      "  Downloading onnx_tf-1.10.0-py3-none-any.whl.metadata (510 bytes)\r\n",
      "Requirement already satisfied: tensorflow in /usr/local/lib/python3.10/dist-packages (2.17.1)\r\n",
      "Requirement already satisfied: numpy>=1.20 in /usr/local/lib/python3.10/dist-packages (from onnx) (1.26.4)\r\n",
      "Requirement already satisfied: protobuf>=3.20.2 in /usr/local/lib/python3.10/dist-packages (from onnx) (3.20.3)\r\n",
      "Requirement already satisfied: PyYAML in /usr/local/lib/python3.10/dist-packages (from onnx-tf) (6.0.2)\r\n",
      "Collecting tensorflow-addons (from onnx-tf)\r\n",
      "  Downloading tensorflow_addons-0.23.0-cp310-cp310-manylinux_2_17_x86_64.manylinux2014_x86_64.whl.metadata (1.8 kB)\r\n",
      "Requirement already satisfied: absl-py>=1.0.0 in /usr/local/lib/python3.10/dist-packages (from tensorflow) (1.4.0)\r\n",
      "Requirement already satisfied: astunparse>=1.6.0 in /usr/local/lib/python3.10/dist-packages (from tensorflow) (1.6.3)\r\n",
      "Requirement already satisfied: flatbuffers>=24.3.25 in /usr/local/lib/python3.10/dist-packages (from tensorflow) (24.3.25)\r\n",
      "Requirement already satisfied: gast!=0.5.0,!=0.5.1,!=0.5.2,>=0.2.1 in /usr/local/lib/python3.10/dist-packages (from tensorflow) (0.6.0)\r\n",
      "Requirement already satisfied: google-pasta>=0.1.1 in /usr/local/lib/python3.10/dist-packages (from tensorflow) (0.2.0)\r\n",
      "Requirement already satisfied: h5py>=3.10.0 in /usr/local/lib/python3.10/dist-packages (from tensorflow) (3.12.1)\r\n",
      "Requirement already satisfied: libclang>=13.0.0 in /usr/local/lib/python3.10/dist-packages (from tensorflow) (18.1.1)\r\n",
      "Requirement already satisfied: ml-dtypes<0.5.0,>=0.3.1 in /usr/local/lib/python3.10/dist-packages (from tensorflow) (0.4.1)\r\n",
      "Requirement already satisfied: opt-einsum>=2.3.2 in /usr/local/lib/python3.10/dist-packages (from tensorflow) (3.4.0)\r\n",
      "Requirement already satisfied: packaging in /usr/local/lib/python3.10/dist-packages (from tensorflow) (24.2)\r\n",
      "Requirement already satisfied: requests<3,>=2.21.0 in /usr/local/lib/python3.10/dist-packages (from tensorflow) (2.32.3)\r\n",
      "Requirement already satisfied: setuptools in /usr/local/lib/python3.10/dist-packages (from tensorflow) (75.1.0)\r\n",
      "Requirement already satisfied: six>=1.12.0 in /usr/local/lib/python3.10/dist-packages (from tensorflow) (1.17.0)\r\n",
      "Requirement already satisfied: termcolor>=1.1.0 in /usr/local/lib/python3.10/dist-packages (from tensorflow) (2.5.0)\r\n",
      "Requirement already satisfied: typing-extensions>=3.6.6 in /usr/local/lib/python3.10/dist-packages (from tensorflow) (4.12.2)\r\n",
      "Requirement already satisfied: wrapt>=1.11.0 in /usr/local/lib/python3.10/dist-packages (from tensorflow) (1.17.0)\r\n",
      "Requirement already satisfied: grpcio<2.0,>=1.24.3 in /usr/local/lib/python3.10/dist-packages (from tensorflow) (1.68.1)\r\n",
      "Requirement already satisfied: tensorboard<2.18,>=2.17 in /usr/local/lib/python3.10/dist-packages (from tensorflow) (2.17.1)\r\n",
      "Requirement already satisfied: keras>=3.2.0 in /usr/local/lib/python3.10/dist-packages (from tensorflow) (3.5.0)\r\n",
      "Requirement already satisfied: tensorflow-io-gcs-filesystem>=0.23.1 in /usr/local/lib/python3.10/dist-packages (from tensorflow) (0.37.1)\r\n",
      "Requirement already satisfied: wheel<1.0,>=0.23.0 in /usr/local/lib/python3.10/dist-packages (from astunparse>=1.6.0->tensorflow) (0.45.1)\r\n",
      "Requirement already satisfied: rich in /usr/local/lib/python3.10/dist-packages (from keras>=3.2.0->tensorflow) (13.9.4)\r\n",
      "Requirement already satisfied: namex in /usr/local/lib/python3.10/dist-packages (from keras>=3.2.0->tensorflow) (0.0.8)\r\n",
      "Requirement already satisfied: optree in /usr/local/lib/python3.10/dist-packages (from keras>=3.2.0->tensorflow) (0.13.1)\r\n",
      "Requirement already satisfied: mkl_fft in /usr/local/lib/python3.10/dist-packages (from numpy>=1.20->onnx) (1.3.8)\r\n",
      "Requirement already satisfied: mkl_random in /usr/local/lib/python3.10/dist-packages (from numpy>=1.20->onnx) (1.2.4)\r\n",
      "Requirement already satisfied: mkl_umath in /usr/local/lib/python3.10/dist-packages (from numpy>=1.20->onnx) (0.1.1)\r\n",
      "Requirement already satisfied: mkl in /usr/local/lib/python3.10/dist-packages (from numpy>=1.20->onnx) (2025.0.1)\r\n",
      "Requirement already satisfied: tbb4py in /usr/local/lib/python3.10/dist-packages (from numpy>=1.20->onnx) (2022.0.0)\r\n",
      "Requirement already satisfied: mkl-service in /usr/local/lib/python3.10/dist-packages (from numpy>=1.20->onnx) (2.4.1)\r\n",
      "Requirement already satisfied: charset-normalizer<4,>=2 in /usr/local/lib/python3.10/dist-packages (from requests<3,>=2.21.0->tensorflow) (3.4.0)\r\n",
      "Requirement already satisfied: idna<4,>=2.5 in /usr/local/lib/python3.10/dist-packages (from requests<3,>=2.21.0->tensorflow) (3.10)\r\n",
      "Requirement already satisfied: urllib3<3,>=1.21.1 in /usr/local/lib/python3.10/dist-packages (from requests<3,>=2.21.0->tensorflow) (2.2.3)\r\n",
      "Requirement already satisfied: certifi>=2017.4.17 in /usr/local/lib/python3.10/dist-packages (from requests<3,>=2.21.0->tensorflow) (2024.12.14)\r\n",
      "Requirement already satisfied: markdown>=2.6.8 in /usr/local/lib/python3.10/dist-packages (from tensorboard<2.18,>=2.17->tensorflow) (3.7)\r\n",
      "Requirement already satisfied: tensorboard-data-server<0.8.0,>=0.7.0 in /usr/local/lib/python3.10/dist-packages (from tensorboard<2.18,>=2.17->tensorflow) (0.7.2)\r\n",
      "Requirement already satisfied: werkzeug>=1.0.1 in /usr/local/lib/python3.10/dist-packages (from tensorboard<2.18,>=2.17->tensorflow) (3.1.3)\r\n",
      "Collecting typeguard<3.0.0,>=2.7 (from tensorflow-addons->onnx-tf)\r\n",
      "  Downloading typeguard-2.13.3-py3-none-any.whl.metadata (3.6 kB)\r\n",
      "Requirement already satisfied: MarkupSafe>=2.1.1 in /usr/local/lib/python3.10/dist-packages (from werkzeug>=1.0.1->tensorboard<2.18,>=2.17->tensorflow) (3.0.2)\r\n",
      "Requirement already satisfied: intel-openmp>=2024 in /usr/local/lib/python3.10/dist-packages (from mkl->numpy>=1.20->onnx) (2024.2.0)\r\n",
      "Requirement already satisfied: tbb==2022.* in /usr/local/lib/python3.10/dist-packages (from mkl->numpy>=1.20->onnx) (2022.0.0)\r\n",
      "Requirement already satisfied: tcmlib==1.* in /usr/local/lib/python3.10/dist-packages (from tbb==2022.*->mkl->numpy>=1.20->onnx) (1.2.0)\r\n",
      "Requirement already satisfied: intel-cmplr-lib-rt in /usr/local/lib/python3.10/dist-packages (from mkl_umath->numpy>=1.20->onnx) (2024.2.0)\r\n",
      "Requirement already satisfied: markdown-it-py>=2.2.0 in /usr/local/lib/python3.10/dist-packages (from rich->keras>=3.2.0->tensorflow) (3.0.0)\r\n",
      "Requirement already satisfied: pygments<3.0.0,>=2.13.0 in /usr/local/lib/python3.10/dist-packages (from rich->keras>=3.2.0->tensorflow) (2.18.0)\r\n",
      "Requirement already satisfied: intel-cmplr-lib-ur==2024.2.0 in /usr/local/lib/python3.10/dist-packages (from intel-openmp>=2024->mkl->numpy>=1.20->onnx) (2024.2.0)\r\n",
      "Requirement already satisfied: mdurl~=0.1 in /usr/local/lib/python3.10/dist-packages (from markdown-it-py>=2.2.0->rich->keras>=3.2.0->tensorflow) (0.1.2)\r\n",
      "Downloading onnx_tf-1.10.0-py3-none-any.whl (226 kB)\r\n",
      "\u001b[2K   \u001b[90m━━━━━━━━━━━━━━━━━━━━━━━━━━━━━━━━━━━━━━━━\u001b[0m \u001b[32m226.1/226.1 kB\u001b[0m \u001b[31m7.0 MB/s\u001b[0m eta \u001b[36m0:00:00\u001b[0m\r\n",
      "\u001b[?25hDownloading tensorflow_addons-0.23.0-cp310-cp310-manylinux_2_17_x86_64.manylinux2014_x86_64.whl (611 kB)\r\n",
      "\u001b[2K   \u001b[90m━━━━━━━━━━━━━━━━━━━━━━━━━━━━━━━━━━━━━━━━\u001b[0m \u001b[32m611.8/611.8 kB\u001b[0m \u001b[31m24.8 MB/s\u001b[0m eta \u001b[36m0:00:00\u001b[0m\r\n",
      "\u001b[?25hDownloading typeguard-2.13.3-py3-none-any.whl (17 kB)\r\n",
      "Installing collected packages: typeguard, tensorflow-addons, onnx-tf\r\n",
      "  Attempting uninstall: typeguard\r\n",
      "    Found existing installation: typeguard 4.4.1\r\n",
      "    Uninstalling typeguard-4.4.1:\r\n",
      "      Successfully uninstalled typeguard-4.4.1\r\n",
      "\u001b[31mERROR: pip's dependency resolver does not currently take into account all the packages that are installed. This behaviour is the source of the following dependency conflicts.\r\n",
      "inflect 7.4.0 requires typeguard>=4.0.1, but you have typeguard 2.13.3 which is incompatible.\r\n",
      "ydata-profiling 4.12.1 requires typeguard<5,>=3, but you have typeguard 2.13.3 which is incompatible.\u001b[0m\u001b[31m\r\n",
      "\u001b[0mSuccessfully installed onnx-tf-1.10.0 tensorflow-addons-0.23.0 typeguard-2.13.3\r\n",
      "Note: you may need to restart the kernel to use updated packages.\n"
     ]
    }
   ],
   "source": [
    "pip install onnx onnx-tf tensorflow\n"
   ]
  },
  {
   "cell_type": "code",
   "execution_count": 11,
   "id": "5b28c9e9",
   "metadata": {
    "execution": {
     "iopub.execute_input": "2025-01-30T09:33:28.663886Z",
     "iopub.status.busy": "2025-01-30T09:33:28.663494Z",
     "iopub.status.idle": "2025-01-30T09:34:39.496339Z",
     "shell.execute_reply": "2025-01-30T09:34:39.494854Z"
    },
    "papermill": {
     "duration": 71.259544,
     "end_time": "2025-01-30T09:34:39.498398",
     "exception": false,
     "start_time": "2025-01-30T09:33:28.238854",
     "status": "completed"
    },
    "tags": []
   },
   "outputs": [
    {
     "name": "stdout",
     "output_type": "stream",
     "text": [
      "Requirement already satisfied: onnx in /usr/local/lib/python3.10/dist-packages (1.17.0)\r\n",
      "Collecting onnx2tf\r\n",
      "  Downloading onnx2tf-1.26.7-py3-none-any.whl.metadata (147 kB)\r\n",
      "\u001b[2K     \u001b[90m━━━━━━━━━━━━━━━━━━━━━━━━━━━━━━━━━━━━━━━━\u001b[0m \u001b[32m147.5/147.5 kB\u001b[0m \u001b[31m4.7 MB/s\u001b[0m eta \u001b[36m0:00:00\u001b[0m\r\n",
      "\u001b[?25hRequirement already satisfied: tensorflow in /usr/local/lib/python3.10/dist-packages (2.17.1)\r\n",
      "Collecting tensorflow\r\n",
      "  Downloading tensorflow-2.18.0-cp310-cp310-manylinux_2_17_x86_64.manylinux2014_x86_64.whl.metadata (4.1 kB)\r\n",
      "Requirement already satisfied: numpy>=1.20 in /usr/local/lib/python3.10/dist-packages (from onnx) (1.26.4)\r\n",
      "Requirement already satisfied: protobuf>=3.20.2 in /usr/local/lib/python3.10/dist-packages (from onnx) (3.20.3)\r\n",
      "Requirement already satisfied: absl-py>=1.0.0 in /usr/local/lib/python3.10/dist-packages (from tensorflow) (1.4.0)\r\n",
      "Requirement already satisfied: astunparse>=1.6.0 in /usr/local/lib/python3.10/dist-packages (from tensorflow) (1.6.3)\r\n",
      "Requirement already satisfied: flatbuffers>=24.3.25 in /usr/local/lib/python3.10/dist-packages (from tensorflow) (24.3.25)\r\n",
      "Requirement already satisfied: gast!=0.5.0,!=0.5.1,!=0.5.2,>=0.2.1 in /usr/local/lib/python3.10/dist-packages (from tensorflow) (0.6.0)\r\n",
      "Requirement already satisfied: google-pasta>=0.1.1 in /usr/local/lib/python3.10/dist-packages (from tensorflow) (0.2.0)\r\n",
      "Requirement already satisfied: libclang>=13.0.0 in /usr/local/lib/python3.10/dist-packages (from tensorflow) (18.1.1)\r\n",
      "Requirement already satisfied: opt-einsum>=2.3.2 in /usr/local/lib/python3.10/dist-packages (from tensorflow) (3.4.0)\r\n",
      "Requirement already satisfied: packaging in /usr/local/lib/python3.10/dist-packages (from tensorflow) (24.2)\r\n",
      "Requirement already satisfied: requests<3,>=2.21.0 in /usr/local/lib/python3.10/dist-packages (from tensorflow) (2.32.3)\r\n",
      "Requirement already satisfied: setuptools in /usr/local/lib/python3.10/dist-packages (from tensorflow) (75.1.0)\r\n",
      "Requirement already satisfied: six>=1.12.0 in /usr/local/lib/python3.10/dist-packages (from tensorflow) (1.17.0)\r\n",
      "Requirement already satisfied: termcolor>=1.1.0 in /usr/local/lib/python3.10/dist-packages (from tensorflow) (2.5.0)\r\n",
      "Requirement already satisfied: typing-extensions>=3.6.6 in /usr/local/lib/python3.10/dist-packages (from tensorflow) (4.12.2)\r\n",
      "Requirement already satisfied: wrapt>=1.11.0 in /usr/local/lib/python3.10/dist-packages (from tensorflow) (1.17.0)\r\n",
      "Requirement already satisfied: grpcio<2.0,>=1.24.3 in /usr/local/lib/python3.10/dist-packages (from tensorflow) (1.68.1)\r\n",
      "Collecting tensorboard<2.19,>=2.18 (from tensorflow)\r\n",
      "  Downloading tensorboard-2.18.0-py3-none-any.whl.metadata (1.6 kB)\r\n",
      "Requirement already satisfied: keras>=3.5.0 in /usr/local/lib/python3.10/dist-packages (from tensorflow) (3.5.0)\r\n",
      "Requirement already satisfied: h5py>=3.11.0 in /usr/local/lib/python3.10/dist-packages (from tensorflow) (3.12.1)\r\n",
      "Requirement already satisfied: ml-dtypes<0.5.0,>=0.4.0 in /usr/local/lib/python3.10/dist-packages (from tensorflow) (0.4.1)\r\n",
      "Requirement already satisfied: tensorflow-io-gcs-filesystem>=0.23.1 in /usr/local/lib/python3.10/dist-packages (from tensorflow) (0.37.1)\r\n",
      "Requirement already satisfied: wheel<1.0,>=0.23.0 in /usr/local/lib/python3.10/dist-packages (from astunparse>=1.6.0->tensorflow) (0.45.1)\r\n",
      "Requirement already satisfied: rich in /usr/local/lib/python3.10/dist-packages (from keras>=3.5.0->tensorflow) (13.9.4)\r\n",
      "Requirement already satisfied: namex in /usr/local/lib/python3.10/dist-packages (from keras>=3.5.0->tensorflow) (0.0.8)\r\n",
      "Requirement already satisfied: optree in /usr/local/lib/python3.10/dist-packages (from keras>=3.5.0->tensorflow) (0.13.1)\r\n",
      "Requirement already satisfied: mkl_fft in /usr/local/lib/python3.10/dist-packages (from numpy>=1.20->onnx) (1.3.8)\r\n",
      "Requirement already satisfied: mkl_random in /usr/local/lib/python3.10/dist-packages (from numpy>=1.20->onnx) (1.2.4)\r\n",
      "Requirement already satisfied: mkl_umath in /usr/local/lib/python3.10/dist-packages (from numpy>=1.20->onnx) (0.1.1)\r\n",
      "Requirement already satisfied: mkl in /usr/local/lib/python3.10/dist-packages (from numpy>=1.20->onnx) (2025.0.1)\r\n",
      "Requirement already satisfied: tbb4py in /usr/local/lib/python3.10/dist-packages (from numpy>=1.20->onnx) (2022.0.0)\r\n",
      "Requirement already satisfied: mkl-service in /usr/local/lib/python3.10/dist-packages (from numpy>=1.20->onnx) (2.4.1)\r\n",
      "Requirement already satisfied: charset-normalizer<4,>=2 in /usr/local/lib/python3.10/dist-packages (from requests<3,>=2.21.0->tensorflow) (3.4.0)\r\n",
      "Requirement already satisfied: idna<4,>=2.5 in /usr/local/lib/python3.10/dist-packages (from requests<3,>=2.21.0->tensorflow) (3.10)\r\n",
      "Requirement already satisfied: urllib3<3,>=1.21.1 in /usr/local/lib/python3.10/dist-packages (from requests<3,>=2.21.0->tensorflow) (2.2.3)\r\n",
      "Requirement already satisfied: certifi>=2017.4.17 in /usr/local/lib/python3.10/dist-packages (from requests<3,>=2.21.0->tensorflow) (2024.12.14)\r\n",
      "Requirement already satisfied: markdown>=2.6.8 in /usr/local/lib/python3.10/dist-packages (from tensorboard<2.19,>=2.18->tensorflow) (3.7)\r\n",
      "Requirement already satisfied: tensorboard-data-server<0.8.0,>=0.7.0 in /usr/local/lib/python3.10/dist-packages (from tensorboard<2.19,>=2.18->tensorflow) (0.7.2)\r\n",
      "Requirement already satisfied: werkzeug>=1.0.1 in /usr/local/lib/python3.10/dist-packages (from tensorboard<2.19,>=2.18->tensorflow) (3.1.3)\r\n",
      "Requirement already satisfied: MarkupSafe>=2.1.1 in /usr/local/lib/python3.10/dist-packages (from werkzeug>=1.0.1->tensorboard<2.19,>=2.18->tensorflow) (3.0.2)\r\n",
      "Requirement already satisfied: intel-openmp>=2024 in /usr/local/lib/python3.10/dist-packages (from mkl->numpy>=1.20->onnx) (2024.2.0)\r\n",
      "Requirement already satisfied: tbb==2022.* in /usr/local/lib/python3.10/dist-packages (from mkl->numpy>=1.20->onnx) (2022.0.0)\r\n",
      "Requirement already satisfied: tcmlib==1.* in /usr/local/lib/python3.10/dist-packages (from tbb==2022.*->mkl->numpy>=1.20->onnx) (1.2.0)\r\n",
      "Requirement already satisfied: intel-cmplr-lib-rt in /usr/local/lib/python3.10/dist-packages (from mkl_umath->numpy>=1.20->onnx) (2024.2.0)\r\n",
      "Requirement already satisfied: markdown-it-py>=2.2.0 in /usr/local/lib/python3.10/dist-packages (from rich->keras>=3.5.0->tensorflow) (3.0.0)\r\n",
      "Requirement already satisfied: pygments<3.0.0,>=2.13.0 in /usr/local/lib/python3.10/dist-packages (from rich->keras>=3.5.0->tensorflow) (2.18.0)\r\n",
      "Requirement already satisfied: intel-cmplr-lib-ur==2024.2.0 in /usr/local/lib/python3.10/dist-packages (from intel-openmp>=2024->mkl->numpy>=1.20->onnx) (2024.2.0)\r\n",
      "Requirement already satisfied: mdurl~=0.1 in /usr/local/lib/python3.10/dist-packages (from markdown-it-py>=2.2.0->rich->keras>=3.5.0->tensorflow) (0.1.2)\r\n",
      "Downloading onnx2tf-1.26.7-py3-none-any.whl (446 kB)\r\n",
      "\u001b[2K   \u001b[90m━━━━━━━━━━━━━━━━━━━━━━━━━━━━━━━━━━━━━━━━\u001b[0m \u001b[32m446.2/446.2 kB\u001b[0m \u001b[31m18.4 MB/s\u001b[0m eta \u001b[36m0:00:00\u001b[0m\r\n",
      "\u001b[?25hDownloading tensorflow-2.18.0-cp310-cp310-manylinux_2_17_x86_64.manylinux2014_x86_64.whl (615.3 MB)\r\n",
      "\u001b[2K   \u001b[90m━━━━━━━━━━━━━━━━━━━━━━━━━━━━━━━━━━━━━━━━\u001b[0m \u001b[32m615.3/615.3 MB\u001b[0m \u001b[31m2.6 MB/s\u001b[0m eta \u001b[36m0:00:00\u001b[0m\r\n",
      "\u001b[?25hDownloading tensorboard-2.18.0-py3-none-any.whl (5.5 MB)\r\n",
      "\u001b[2K   \u001b[90m━━━━━━━━━━━━━━━━━━━━━━━━━━━━━━━━━━━━━━━━\u001b[0m \u001b[32m5.5/5.5 MB\u001b[0m \u001b[31m87.1 MB/s\u001b[0m eta \u001b[36m0:00:00\u001b[0m\r\n",
      "\u001b[?25hInstalling collected packages: onnx2tf, tensorboard, tensorflow\r\n",
      "  Attempting uninstall: tensorboard\r\n",
      "    Found existing installation: tensorboard 2.17.1\r\n",
      "    Uninstalling tensorboard-2.17.1:\r\n",
      "      Successfully uninstalled tensorboard-2.17.1\r\n",
      "  Attempting uninstall: tensorflow\r\n",
      "    Found existing installation: tensorflow 2.17.1\r\n",
      "    Uninstalling tensorflow-2.17.1:\r\n",
      "      Successfully uninstalled tensorflow-2.17.1\r\n",
      "\u001b[31mERROR: pip's dependency resolver does not currently take into account all the packages that are installed. This behaviour is the source of the following dependency conflicts.\r\n",
      "tensorflow-decision-forests 1.10.0 requires tensorflow==2.17.0, but you have tensorflow 2.18.0 which is incompatible.\r\n",
      "tensorflow-text 2.17.0 requires tensorflow<2.18,>=2.17.0, but you have tensorflow 2.18.0 which is incompatible.\r\n",
      "tf-keras 2.17.0 requires tensorflow<2.18,>=2.17, but you have tensorflow 2.18.0 which is incompatible.\u001b[0m\u001b[31m\r\n",
      "\u001b[0mSuccessfully installed onnx2tf-1.26.7 tensorboard-2.18.0 tensorflow-2.18.0\r\n",
      "Note: you may need to restart the kernel to use updated packages.\n"
     ]
    }
   ],
   "source": [
    "pip install -U onnx onnx2tf tensorflow\n"
   ]
  }
 ],
 "metadata": {
  "kaggle": {
   "accelerator": "nvidiaTeslaT4",
   "dataSources": [
    {
     "datasetId": 6558035,
     "sourceId": 10595472,
     "sourceType": "datasetVersion"
    }
   ],
   "dockerImageVersionId": 30840,
   "isGpuEnabled": true,
   "isInternetEnabled": true,
   "language": "python",
   "sourceType": "notebook"
  },
  "kernelspec": {
   "display_name": "Python 3",
   "language": "python",
   "name": "python3"
  },
  "language_info": {
   "codemirror_mode": {
    "name": "ipython",
    "version": 3
   },
   "file_extension": ".py",
   "mimetype": "text/x-python",
   "name": "python",
   "nbconvert_exporter": "python",
   "pygments_lexer": "ipython3",
   "version": "3.10.12"
  },
  "papermill": {
   "default_parameters": {},
   "duration": 893.276373,
   "end_time": "2025-01-30T09:34:43.340805",
   "environment_variables": {},
   "exception": null,
   "input_path": "__notebook__.ipynb",
   "output_path": "__notebook__.ipynb",
   "parameters": {},
   "start_time": "2025-01-30T09:19:50.064432",
   "version": "2.6.0"
  }
 },
 "nbformat": 4,
 "nbformat_minor": 5
}
